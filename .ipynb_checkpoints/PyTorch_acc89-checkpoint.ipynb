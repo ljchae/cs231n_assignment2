{
 "cells": [
  {
   "cell_type": "markdown",
   "metadata": {
    "colab_type": "text",
    "id": "Fq2Rz0A7q79D"
   },
   "source": [
    "# Training a ConvNet PyTorch\n",
    "\n",
    "In this notebook, you'll learn how to use the powerful PyTorch framework to specify a conv net architecture and train it on the CIFAR-10 dataset."
   ]
  },
  {
   "cell_type": "code",
   "execution_count": 3,
   "metadata": {
    "colab": {
     "base_uri": "https://localhost:8080/",
     "height": 55
    },
    "colab_type": "code",
    "collapsed": false,
    "executionInfo": {
     "elapsed": 42408,
     "status": "ok",
     "timestamp": 1539784864452,
     "user": {
      "displayName": "Lisa Chae",
      "photoUrl": "",
      "userId": "14437547710160931975"
     },
     "user_tz": -540
    },
    "id": "EPT7mCGmrM28",
    "outputId": "acea3ae8-c48a-4648-dfeb-cc0dfb18ae6f"
   },
   "outputs": [
    {
     "name": "stdout",
     "output_type": "stream",
     "text": [
      "tcmalloc: large alloc 1073750016 bytes == 0x583e2000 @  0x7f74b0a9a2a4 0x594e17 0x626104 0x51190a 0x4f5277 0x510c78 0x5119bd 0x4f5277 0x4f3338 0x510fb0 0x5119bd 0x4f5277 0x4f3338 0x510fb0 0x5119bd 0x4f5277 0x4f3338 0x510fb0 0x5119bd 0x4f6070 0x510c78 0x5119bd 0x4f5277 0x4f3338 0x510fb0 0x5119bd 0x4f6070 0x4f3338 0x510fb0 0x5119bd 0x4f6070\n"
     ]
    }
   ],
   "source": [
    "# http://pytorch.org/\n",
    "from os.path import exists\n",
    "from wheel.pep425tags import get_abbr_impl, get_impl_ver, get_abi_tag\n",
    "platform = '{}{}-{}'.format(get_abbr_impl(), get_impl_ver(), get_abi_tag())\n",
    "cuda_output = !ldconfig -p|grep cudart.so|sed -e 's/.*\\.\\([0-9]*\\)\\.\\([0-9]*\\)$/cu\\1\\2/'\n",
    "accelerator = cuda_output[0] if exists('/dev/nvidia0') else 'cpu'\n",
    "\n",
    "!pip install -q http://download.pytorch.org/whl/{accelerator}/torch-0.4.1-{platform}-linux_x86_64.whl torchvision\n",
    "import torch"
   ]
  },
  {
   "cell_type": "code",
   "execution_count": 0,
   "metadata": {
    "colab": {},
    "colab_type": "code",
    "collapsed": true,
    "id": "itmEB5_Yq79G"
   },
   "outputs": [],
   "source": [
    "import torch\n",
    "import torch.nn as nn\n",
    "import torch.optim as optim\n",
    "from torch.autograd import Variable\n",
    "from torch.utils.data import DataLoader\n",
    "from torch.utils.data import sampler\n",
    "\n",
    "import torchvision.datasets as dset\n",
    "import torchvision.transforms as T\n",
    "\n",
    "import numpy as np\n",
    "\n",
    "import timeit"
   ]
  },
  {
   "cell_type": "markdown",
   "metadata": {
    "colab_type": "text",
    "id": "B1ALKkvxq79Q"
   },
   "source": [
    "## What's this PyTorch business?\n",
    "\n",
    "You've written a lot of code in this assignment to provide a whole host of neural network functionality. Dropout, Batch Norm, and 2D convolutions are some of the workhorses of deep learning in computer vision. You've also worked hard to make your code efficient and vectorized.\n",
    "\n",
    "For the last part of this assignment, though, we're going to leave behind your beautiful codebase and instead migrate to one of two popular deep learning frameworks: in this instance, PyTorch (or TensorFlow, if you switch over to that notebook). \n",
    "\n",
    "Why?\n",
    "\n",
    "* Our code will now run on GPUs! Much faster training. When using a framework like PyTorch or TensorFlow you can harness the power of the GPU for your own custom neural network architectures without having to write CUDA code directly (which is beyond the scope of this class).\n",
    "* We want you to be ready to use one of these frameworks for your project so you can experiment more efficiently than if you were writing every feature you want to use by hand. \n",
    "* We want you to stand on the shoulders of giants! TensorFlow and PyTorch are both excellent frameworks that will make your lives a lot easier, and now that you understand their guts, you are free to use them :) \n",
    "* We want you to be exposed to the sort of deep learning code you might run into in academia or industry. "
   ]
  },
  {
   "cell_type": "markdown",
   "metadata": {
    "colab_type": "text",
    "id": "AtpgyCqLq79T"
   },
   "source": [
    "## How will I learn PyTorch?\n",
    "\n",
    "If you've used Torch before, but are new to PyTorch, this tutorial might be of use: http://pytorch.org/tutorials/beginner/former_torchies_tutorial.html\n",
    "\n",
    "Otherwise, this notebook will walk you through much of what you need to do to train models in Torch. See the end of the notebook for some links to helpful tutorials if you want to learn more or need further clarification on topics that aren't fully explained here."
   ]
  },
  {
   "cell_type": "markdown",
   "metadata": {
    "colab_type": "text",
    "id": "uap5s1iDq79W"
   },
   "source": [
    "## Load Datasets\n",
    "\n",
    "We load the CIFAR-10 dataset. This might take a couple minutes the first time you do it, but the files should stay cached after that."
   ]
  },
  {
   "cell_type": "code",
   "execution_count": 5,
   "metadata": {
    "colab": {
     "base_uri": "https://localhost:8080/",
     "height": 72
    },
    "colab_type": "code",
    "collapsed": false,
    "executionInfo": {
     "elapsed": 53845,
     "status": "ok",
     "timestamp": 1539785151748,
     "user": {
      "displayName": "Lisa Chae",
      "photoUrl": "",
      "userId": "14437547710160931975"
     },
     "user_tz": -540
    },
    "id": "D8XRh9TFq79a",
    "outputId": "d17ceda0-c9a4-4269-9569-91a0039408d5"
   },
   "outputs": [
    {
     "name": "stdout",
     "output_type": "stream",
     "text": [
      "Downloading https://www.cs.toronto.edu/~kriz/cifar-10-python.tar.gz to ./cs231n/datasets/cifar-10-python.tar.gz\n",
      "Files already downloaded and verified\n",
      "Files already downloaded and verified\n"
     ]
    }
   ],
   "source": [
    "class ChunkSampler(sampler.Sampler):\n",
    "    \"\"\"Samples elements sequentially from some offset. \n",
    "    Arguments:\n",
    "        num_samples: # of desired datapoints\n",
    "        start: offset where we should start selecting from\n",
    "    \"\"\"\n",
    "    def __init__(self, num_samples, start = 0):\n",
    "        self.num_samples = num_samples\n",
    "        self.start = start\n",
    "\n",
    "    def __iter__(self):\n",
    "        return iter(range(self.start, self.start + self.num_samples))\n",
    "\n",
    "    def __len__(self):\n",
    "        return self.num_samples\n",
    "\n",
    "NUM_TRAIN = 49000\n",
    "NUM_VAL = 1000\n",
    "\n",
    "cifar10_train = dset.CIFAR10('./cs231n/datasets', train=True, download=True,\n",
    "                           transform=T.ToTensor())\n",
    "loader_train = DataLoader(cifar10_train, batch_size=64, sampler=ChunkSampler(NUM_TRAIN, 0))\n",
    "\n",
    "cifar10_val = dset.CIFAR10('./cs231n/datasets', train=True, download=True,\n",
    "                           transform=T.ToTensor())\n",
    "loader_val = DataLoader(cifar10_val, batch_size=64, sampler=ChunkSampler(NUM_VAL, NUM_TRAIN))\n",
    "\n",
    "cifar10_test = dset.CIFAR10('./cs231n/datasets', train=False, download=True,\n",
    "                          transform=T.ToTensor())\n",
    "loader_test = DataLoader(cifar10_test, batch_size=64)\n"
   ]
  },
  {
   "cell_type": "markdown",
   "metadata": {
    "colab_type": "text",
    "id": "go5AtWjMq79s"
   },
   "source": [
    "For now, we're going to use a CPU-friendly datatype. Later, we'll switch to a datatype that will move all our computations to the GPU and measure the speedup."
   ]
  },
  {
   "cell_type": "code",
   "execution_count": 0,
   "metadata": {
    "colab": {},
    "colab_type": "code",
    "collapsed": true,
    "id": "lcudUloJq79u"
   },
   "outputs": [],
   "source": [
    "dtype = torch.FloatTensor # the CPU datatype\n",
    "\n",
    "# Constant to control how frequently we print train loss\n",
    "print_every = 100\n",
    "\n",
    "# This is a little utility that we'll use to reset the model\n",
    "# if we want to re-initialize all our parameters\n",
    "def reset(m):\n",
    "    if hasattr(m, 'reset_parameters'):\n",
    "        m.reset_parameters()"
   ]
  },
  {
   "cell_type": "markdown",
   "metadata": {
    "colab_type": "text",
    "id": "g5Qsks8fq793"
   },
   "source": [
    "## Example Model\n",
    "\n",
    "### Some assorted tidbits\n",
    "\n",
    "Let's start by looking at a simple model. First, note that PyTorch operates on Tensors, which are n-dimensional arrays functionally analogous to numpy's ndarrays, with the additional feature that they can be used for computations on GPUs.\n",
    "\n",
    "We'll provide you with a Flatten function, which we explain here. Remember that our image data (and more relevantly, our intermediate feature maps) are initially N x C x H x W, where:\n",
    "* N is the number of datapoints\n",
    "* C is the number of channels\n",
    "* H is the height of the intermediate feature map in pixels\n",
    "* W is the height of the intermediate feature map in pixels\n",
    "\n",
    "This is the right way to represent the data when we are doing something like a 2D convolution, that needs spatial understanding of where the intermediate features are relative to each other. When we input  data into fully connected affine layers, however, we want each datapoint to be represented by a single vector -- it's no longer useful to segregate the different channels, rows, and columns of the data. So, we use a \"Flatten\" operation to collapse the C x H x W values per representation into a single long vector. The Flatten function below first reads in the N, C, H, and W values from a given batch of data, and then returns a \"view\" of that data. \"View\" is analogous to numpy's \"reshape\" method: it reshapes x's dimensions to be N x ??, where ?? is allowed to be anything (in this case, it will be C x H x W, but we don't need to specify that explicitly). "
   ]
  },
  {
   "cell_type": "code",
   "execution_count": 0,
   "metadata": {
    "colab": {},
    "colab_type": "code",
    "collapsed": true,
    "id": "W1jOBR5Fq796"
   },
   "outputs": [],
   "source": [
    "class Flatten(nn.Module):\n",
    "    def forward(self, x):\n",
    "        N, C, H, W = x.size() # read in N, C, H, W\n",
    "        return x.view(N, -1)  # \"flatten\" the C * H * W values into a single vector per image"
   ]
  },
  {
   "cell_type": "markdown",
   "metadata": {
    "colab_type": "text",
    "id": "huI5VJCIq7-F"
   },
   "source": [
    "### The example model itself\n",
    "\n",
    "The first step to training your own model is defining its architecture.\n",
    "\n",
    "Here's an example of a convolutional neural network defined in PyTorch -- try to understand what each line is doing, remembering that each layer is composed upon the previous layer. We haven't trained anything yet - that'll come next - for now, we want you to understand how everything gets set up.  nn.Sequential is a container which applies each layer\n",
    "one after the other.\n",
    "\n",
    "In that example, you see 2D convolutional layers (Conv2d), ReLU activations, and fully-connected layers (Linear). You also see the Cross-Entropy loss function, and the Adam optimizer being used. \n",
    "\n",
    "Make sure you understand why the parameters of the Linear layer are 5408 and 10.\n"
   ]
  },
  {
   "cell_type": "code",
   "execution_count": 0,
   "metadata": {
    "colab": {},
    "colab_type": "code",
    "collapsed": true,
    "id": "n7eD64cgq7-I"
   },
   "outputs": [],
   "source": [
    "# Here's where we define the architecture of the model... \n",
    "simple_model = nn.Sequential(\n",
    "                nn.Conv2d(3, 32, kernel_size=7, stride=2),\n",
    "                nn.ReLU(inplace=True),\n",
    "                Flatten(), # see above for explanation\n",
    "                nn.Linear(5408, 10), # affine layer\n",
    "              )\n",
    "\n",
    "# Set the type of all data in this model to be FloatTensor \n",
    "simple_model.type(dtype)\n",
    "\n",
    "loss_fn = nn.CrossEntropyLoss().type(dtype)\n",
    "optimizer = optim.Adam(simple_model.parameters(), lr=1e-2) # lr sets the learning rate of the optimizer"
   ]
  },
  {
   "cell_type": "markdown",
   "metadata": {
    "colab_type": "text",
    "id": "bx-Cjfahq7-P"
   },
   "source": [
    "## Training a specific model\n",
    "\n",
    "In this section, we're going to specify a model for you to construct. The goal here isn't to get good performance (that'll be next), but instead to get comfortable with understanding the PyTorch documentation and configuring your own model. \n",
    "\n",
    "Using the code provided above as guidance, and using the following PyTorch documentation, specify a model with the following architecture:\n",
    "\n",
    "* 7x7 Convolutional Layer with 32 filters and stride of 1\n",
    "* ReLU Activation Layer\n",
    "* Spatial Batch Normalization Layer\n",
    "* 2x2 Max Pooling layer with a stride of 2\n",
    "* Affine layer with 1024 output units\n",
    "* ReLU Activation Layer\n",
    "* Affine layer from 1024 input units to 10 outputs\n",
    "\n",
    "And finally, set up a **cross-entropy** loss function and the **RMSprop** learning rule."
   ]
  },
  {
   "cell_type": "markdown",
   "metadata": {
    "colab_type": "text",
    "id": "HeCXGTrzq7-S"
   },
   "source": [
    "PyTorch supports many other layer types, loss functions, and optimizers - you will experiment with these next. Here's the official API documentation for these (if any of the parameters used above were unclear, this resource will also be helpful). One note: what we call in the class \"spatial batch norm\" is called \"BatchNorm2D\" in PyTorch.\n",
    "\n",
    "* Layers: http://pytorch.org/docs/nn.html\n",
    "* Activations: http://pytorch.org/docs/nn.html#non-linear-activations\n",
    "* Loss functions: http://pytorch.org/docs/nn.html#loss-functions\n",
    "* Optimizers: http://pytorch.org/docs/optim.html#algorithms"
   ]
  },
  {
   "cell_type": "code",
   "execution_count": 0,
   "metadata": {
    "colab": {},
    "colab_type": "code",
    "collapsed": true,
    "id": "F4AWKICmq7-g"
   },
   "outputs": [],
   "source": [
    "fixed_model_base = nn.Sequential(\n",
    "                    nn.Conv2d(3, 32, kernel_size=7, stride=1),\n",
    "                    nn.ReLU(inplace=True),\n",
    "                    nn.BatchNorm2d(num_features=32),\n",
    "                    nn.MaxPool2d(kernel_size=2, stride=2),\n",
    "                    Flatten(),\n",
    "                    nn.Linear(5408, 1024), #(32-7)/2+1=13 -> 5408=32*13*13\n",
    "                    nn.ReLU(inplace=True),\n",
    "                    nn.Linear(1024, 10)\n",
    "                    )\n",
    "\n",
    "fixed_model = fixed_model_base.type(dtype)\n",
    "\n",
    "loss_fn = nn.CrossEntropyLoss().type(dtype)\n",
    "optimizer = optim.RMSprop(fixed_model.parameters(), lr=1e-2)"
   ]
  },
  {
   "cell_type": "markdown",
   "metadata": {
    "colab_type": "text",
    "id": "zamGdjWFq7_Q"
   },
   "source": [
    "To make sure you're doing the right thing, use the following tool to check the dimensionality of your output (it should be 64 x 10, since our batches have size 64 and the output of the final affine layer should be 10, corresponding to our 10 classes):"
   ]
  },
  {
   "cell_type": "code",
   "execution_count": 11,
   "metadata": {
    "colab": {
     "base_uri": "https://localhost:8080/",
     "height": 35
    },
    "colab_type": "code",
    "collapsed": false,
    "executionInfo": {
     "elapsed": 970,
     "status": "ok",
     "timestamp": 1539785211295,
     "user": {
      "displayName": "Lisa Chae",
      "photoUrl": "",
      "userId": "14437547710160931975"
     },
     "user_tz": -540
    },
    "id": "rK0JjtUCq7_U",
    "outputId": "1902411d-bd7a-432b-8f22-471b4f3332f8"
   },
   "outputs": [
    {
     "data": {
      "text/plain": [
       "True"
      ]
     },
     "execution_count": 11,
     "metadata": {
      "tags": []
     },
     "output_type": "execute_result"
    }
   ],
   "source": [
    "## Now we're going to feed a random batch into the model you defined and make sure the output is the right size\n",
    "x = torch.randn(64, 3, 32, 32).type(dtype)\n",
    "x_var = Variable(x.type(dtype)) # Construct a PyTorch Variable out of your input data\n",
    "ans = fixed_model(x_var)        # Feed it through the model! \n",
    "\n",
    "# Check to make sure what comes out of your model\n",
    "# is the right dimensionality... this should be True\n",
    "# if you've done everything correctly\n",
    "np.array_equal(np.array(ans.size()), np.array([64, 10]))       "
   ]
  },
  {
   "cell_type": "markdown",
   "metadata": {
    "colab_type": "text",
    "id": "MWoL8zSkq7_t"
   },
   "source": [
    "### GPU!\n",
    "\n",
    "Now, we're going to switch the dtype of the model and our data to the GPU-friendly tensors, and see what happens... everything is the same, except we are casting our model and input tensors as this new dtype instead of the old one.\n",
    "\n",
    "If this returns false, or otherwise fails in a not-graceful way (i.e., with some error message), you may not have an NVIDIA GPU available on your machine. If you're running locally, we recommend you switch to Google Cloud and follow the instructions to set up a GPU there. If you're already on Google Cloud, something is wrong -- make sure you followed the instructions on how to request and use a GPU on your instance. If you did, post on Piazza or come to Office Hours so we can help you debug."
   ]
  },
  {
   "cell_type": "code",
   "execution_count": 12,
   "metadata": {
    "colab": {
     "base_uri": "https://localhost:8080/",
     "height": 35
    },
    "colab_type": "code",
    "collapsed": false,
    "executionInfo": {
     "elapsed": 1249,
     "status": "ok",
     "timestamp": 1539785220797,
     "user": {
      "displayName": "Lisa Chae",
      "photoUrl": "",
      "userId": "14437547710160931975"
     },
     "user_tz": -540
    },
    "id": "wp0p1IMGq7_v",
    "outputId": "0f55cf95-bb6c-4cf6-ffea-d4087c3a03d5"
   },
   "outputs": [
    {
     "data": {
      "text/plain": [
       "True"
      ]
     },
     "execution_count": 12,
     "metadata": {
      "tags": []
     },
     "output_type": "execute_result"
    }
   ],
   "source": [
    "# Verify that CUDA is properly configured and you have a GPU available\n",
    "\n",
    "torch.cuda.is_available()"
   ]
  },
  {
   "cell_type": "code",
   "execution_count": 13,
   "metadata": {
    "colab": {
     "base_uri": "https://localhost:8080/",
     "height": 35
    },
    "colab_type": "code",
    "collapsed": false,
    "executionInfo": {
     "elapsed": 3843,
     "status": "ok",
     "timestamp": 1539785228958,
     "user": {
      "displayName": "Lisa Chae",
      "photoUrl": "",
      "userId": "14437547710160931975"
     },
     "user_tz": -540
    },
    "id": "WfHJGrxtq8A8",
    "outputId": "f97395a2-5cc7-4bc5-f605-9c9cfeb13891"
   },
   "outputs": [
    {
     "data": {
      "text/plain": [
       "True"
      ]
     },
     "execution_count": 13,
     "metadata": {
      "tags": []
     },
     "output_type": "execute_result"
    }
   ],
   "source": [
    "import copy\n",
    "gpu_dtype = torch.cuda.FloatTensor\n",
    "#torch.cuda.FloatTensor -> torch.FloatTensor (no GPU)\n",
    "\n",
    "fixed_model_gpu = copy.deepcopy(fixed_model_base).type(gpu_dtype)\n",
    "\n",
    "x_gpu = torch.randn(64, 3, 32, 32).type(gpu_dtype)\n",
    "x_var_gpu = Variable(x.type(gpu_dtype)) # Construct a PyTorch Variable out of your input data\n",
    "ans = fixed_model_gpu(x_var_gpu)        # Feed it through the model! \n",
    "\n",
    "# Check to make sure what comes out of your model\n",
    "# is the right dimensionality... this should be True\n",
    "# if you've done everything correctly\n",
    "np.array_equal(np.array(ans.size()), np.array([64, 10]))"
   ]
  },
  {
   "cell_type": "markdown",
   "metadata": {
    "colab_type": "text",
    "id": "sucZKPQwq8BM"
   },
   "source": [
    "Run the following cell to evaluate the performance of the forward pass running on the CPU:"
   ]
  },
  {
   "cell_type": "code",
   "execution_count": 11,
   "metadata": {
    "colab": {
     "base_uri": "https://localhost:8080/",
     "height": 35
    },
    "colab_type": "code",
    "collapsed": false,
    "executionInfo": {
     "elapsed": 4428,
     "status": "ok",
     "timestamp": 1539757055224,
     "user": {
      "displayName": "Lisa Chae",
      "photoUrl": "",
      "userId": "14437547710160931975"
     },
     "user_tz": -540
    },
    "id": "2LbDEzPrq8B5",
    "outputId": "86f81cc8-5eea-47bd-cffc-71ffe47834f2"
   },
   "outputs": [
    {
     "name": "stdout",
     "output_type": "stream",
     "text": [
      "10 loops, best of 3: 66.1 ms per loop\n"
     ]
    }
   ],
   "source": [
    "%%timeit \n",
    "ans = fixed_model(x_var)"
   ]
  },
  {
   "cell_type": "markdown",
   "metadata": {
    "colab_type": "text",
    "id": "1r5GhQN4q8CK"
   },
   "source": [
    "... and now the GPU:"
   ]
  },
  {
   "cell_type": "code",
   "execution_count": 12,
   "metadata": {
    "colab": {
     "base_uri": "https://localhost:8080/",
     "height": 54
    },
    "colab_type": "code",
    "collapsed": false,
    "executionInfo": {
     "elapsed": 1680,
     "status": "ok",
     "timestamp": 1539757057777,
     "user": {
      "displayName": "Lisa Chae",
      "photoUrl": "",
      "userId": "14437547710160931975"
     },
     "user_tz": -540
    },
    "id": "du52pO1Mq8CN",
    "outputId": "b7fab195-0198-49fe-9ae7-dbe75b428cb8"
   },
   "outputs": [
    {
     "name": "stdout",
     "output_type": "stream",
     "text": [
      "The slowest run took 27.99 times longer than the fastest. This could mean that an intermediate result is being cached.\n",
      "100 loops, best of 3: 1.9 ms per loop\n"
     ]
    }
   ],
   "source": [
    "%%timeit \n",
    "torch.cuda.synchronize() # Make sure there are no pending GPU computations\n",
    "ans = fixed_model_gpu(x_var_gpu)        # Feed it through the model! \n",
    "torch.cuda.synchronize() # Make sure there are no pending GPU computations"
   ]
  },
  {
   "cell_type": "markdown",
   "metadata": {
    "colab_type": "text",
    "id": "cPFlh0EZq8CZ"
   },
   "source": [
    "You should observe that even a simple forward pass like this is significantly faster on the GPU. So for the rest of the assignment (and when you go train your models in assignment 3 and your project!), you should use the GPU datatype for your model and your tensors: as a reminder that is *torch.cuda.FloatTensor* (in our notebook here as *gpu_dtype*)"
   ]
  },
  {
   "cell_type": "markdown",
   "metadata": {
    "colab_type": "text",
    "id": "XE2ZKnYWq8Cc"
   },
   "source": [
    "### Train the model.\n",
    "\n",
    "Now that you've seen how to define a model and do a single forward pass of some data through it, let's  walk through how you'd actually train one whole epoch over your training data (using the simple_model we provided above).\n",
    "\n",
    "Make sure you understand how each PyTorch function used below corresponds to what you implemented in your custom neural network implementation.\n",
    "\n",
    "Note that because we are not resetting the weights anywhere below, if you run the cell multiple times, you are effectively training multiple epochs (so your performance should improve).\n",
    "\n",
    "First, set up an RMSprop optimizer (using a 1e-3 learning rate) and a cross-entropy loss function:"
   ]
  },
  {
   "cell_type": "code",
   "execution_count": 0,
   "metadata": {
    "colab": {},
    "colab_type": "code",
    "collapsed": true,
    "id": "jo-CMsOgq8Cf"
   },
   "outputs": [],
   "source": [
    "loss_fn = nn.CrossEntropyLoss()\n",
    "optimizer = optim.RMSprop(fixed_model_gpu.parameters(), lr=1e-3)\n"
   ]
  },
  {
   "cell_type": "code",
   "execution_count": 14,
   "metadata": {
    "colab": {
     "base_uri": "https://localhost:8080/",
     "height": 201
    },
    "colab_type": "code",
    "collapsed": false,
    "executionInfo": {
     "elapsed": 10720,
     "status": "ok",
     "timestamp": 1539757070613,
     "user": {
      "displayName": "Lisa Chae",
      "photoUrl": "",
      "userId": "14437547710160931975"
     },
     "user_tz": -540
    },
    "id": "LBxGTGa9q8D2",
    "outputId": "53579483-8488-4b4e-d8b7-71fb1c5fa910"
   },
   "outputs": [
    {
     "name": "stderr",
     "output_type": "stream",
     "text": [
      "/usr/local/lib/python3.6/dist-packages/ipykernel_launcher.py:15: UserWarning: invalid index of a 0-dim tensor. This will be an error in PyTorch 0.5. Use tensor.item() to convert a 0-dim tensor to a Python number\n",
      "  from ipykernel import kernelapp as app\n"
     ]
    },
    {
     "name": "stdout",
     "output_type": "stream",
     "text": [
      "t = 100, loss = 1.5230\n",
      "t = 200, loss = 1.6215\n",
      "t = 300, loss = 1.3881\n",
      "t = 400, loss = 1.2904\n",
      "t = 500, loss = 1.2247\n",
      "t = 600, loss = 1.3976\n",
      "t = 700, loss = 1.2632\n"
     ]
    }
   ],
   "source": [
    "# This sets the model in \"training\" mode. This is relevant for some layers that may have different behavior\n",
    "# in training mode vs testing mode, such as Dropout and BatchNorm. \n",
    "fixed_model_gpu.train()\n",
    "\n",
    "# Load one batch at a time.\n",
    "for t, (x, y) in enumerate(loader_train):\n",
    "    x_var = Variable(x.type(gpu_dtype))\n",
    "    y_var = Variable(y.type(gpu_dtype).long())\n",
    "\n",
    "    # This is the forward pass: predict the scores for each class, for each x in the batch.\n",
    "    scores = fixed_model_gpu(x_var)\n",
    "    \n",
    "    # Use the correct y values and the predicted y values to compute the loss.\n",
    "    loss = loss_fn(scores, y_var)\n",
    "    \n",
    "    if (t + 1) % print_every == 0:\n",
    "        print('t = %d, loss = %.4f' % (t + 1, loss.data[0]))\n",
    "\n",
    "    # Zero out all of the gradients for the variables which the optimizer will update.\n",
    "    optimizer.zero_grad()\n",
    "    \n",
    "    # This is the backwards pass: compute the gradient of the loss with respect to each \n",
    "    # parameter of the model.\n",
    "    loss.backward()\n",
    "    \n",
    "    # Actually update the parameters of the model using the gradients computed by the backwards pass.\n",
    "    optimizer.step()"
   ]
  },
  {
   "cell_type": "markdown",
   "metadata": {
    "colab_type": "text",
    "id": "_Rbz8VUgq8EB"
   },
   "source": [
    "Now you've seen how the training process works in PyTorch. To save you writing boilerplate code, we're providing the following helper functions to help you train for multiple epochs and check the accuracy of your model:"
   ]
  },
  {
   "cell_type": "code",
   "execution_count": 0,
   "metadata": {
    "colab": {},
    "colab_type": "code",
    "collapsed": true,
    "id": "AeSWObhKq8EI"
   },
   "outputs": [],
   "source": [
    "def train(model, loss_fn, optimizer, num_epochs = 1):\n",
    "    for epoch in range(num_epochs):\n",
    "        print('Starting epoch %d / %d' % (epoch + 1, num_epochs))\n",
    "        model.train()\n",
    "        for t, (x, y) in enumerate(loader_train):\n",
    "            x_var = Variable(x.type(gpu_dtype))\n",
    "            y_var = Variable(y.type(gpu_dtype).long())\n",
    "\n",
    "            scores = model(x_var)\n",
    "            \n",
    "            loss = loss_fn(scores, y_var)\n",
    "            if (t + 1) % print_every == 0:\n",
    "                print('t = %d, loss = %.4f' % (t + 1, loss.data[0]))\n",
    "\n",
    "            optimizer.zero_grad()\n",
    "            loss.backward()\n",
    "            optimizer.step()\n",
    "\n",
    "def check_accuracy(model, loader):\n",
    "    if loader.dataset.train:\n",
    "        print('Checking accuracy on validation set')\n",
    "    else:\n",
    "        print('Checking accuracy on test set')   \n",
    "    num_correct = 0\n",
    "    num_samples = 0\n",
    "    model.eval() # Put the model in test mode (the opposite of model.train(), essentially)\n",
    "    for x, y in loader:\n",
    "        x_var = Variable(x.type(gpu_dtype), volatile=True)\n",
    "\n",
    "        scores = model(x_var)\n",
    "        _, preds = scores.data.cpu().max(1)\n",
    "        num_correct += (preds == y).sum()\n",
    "        num_samples += preds.size(0)\n",
    "    acc = float(num_correct) / num_samples\n",
    "    print('Got %d / %d correct (%.2f)' % (num_correct, num_samples, 100 * acc))\n",
    "    return 100*acc #added for evaluation process"
   ]
  },
  {
   "cell_type": "markdown",
   "metadata": {
    "colab_type": "text",
    "id": "sM3trWRLq8ER"
   },
   "source": [
    "### Check the accuracy of the model.\n",
    "\n",
    "Let's see the train and check_accuracy code in action -- feel free to use these methods when evaluating the models you develop below.\n",
    "\n",
    "You should get a training loss of around 1.2-1.4, and a validation accuracy of around 50-60%. As mentioned above, if you re-run the cells, you'll be training more epochs, so your performance will improve past these numbers.\n",
    "\n",
    "But don't worry about getting these numbers better -- this was just practice before you tackle designing your own model."
   ]
  },
  {
   "cell_type": "code",
   "execution_count": 16,
   "metadata": {
    "colab": {
     "base_uri": "https://localhost:8080/",
     "height": 292
    },
    "colab_type": "code",
    "collapsed": false,
    "executionInfo": {
     "elapsed": 10590,
     "status": "ok",
     "timestamp": 1539757082597,
     "user": {
      "displayName": "Lisa Chae",
      "photoUrl": "",
      "userId": "14437547710160931975"
     },
     "user_tz": -540
    },
    "id": "WRxjpGBfq8Ez",
    "outputId": "c59cd27f-7940-4c7f-bc12-9130b144bf24"
   },
   "outputs": [
    {
     "name": "stdout",
     "output_type": "stream",
     "text": [
      "Starting epoch 1 / 1\n"
     ]
    },
    {
     "name": "stderr",
     "output_type": "stream",
     "text": [
      "/usr/local/lib/python3.6/dist-packages/ipykernel_launcher.py:13: UserWarning: invalid index of a 0-dim tensor. This will be an error in PyTorch 0.5. Use tensor.item() to convert a 0-dim tensor to a Python number\n",
      "  del sys.path[0]\n"
     ]
    },
    {
     "name": "stdout",
     "output_type": "stream",
     "text": [
      "t = 100, loss = 1.3067\n",
      "t = 200, loss = 1.5096\n",
      "t = 300, loss = 1.3679\n",
      "t = 400, loss = 1.2426\n",
      "t = 500, loss = 1.1514\n",
      "t = 600, loss = 1.3477\n",
      "t = 700, loss = 1.1936\n",
      "Checking accuracy on validation set\n",
      "Got 601 / 1000 correct (60.10)\n"
     ]
    },
    {
     "name": "stderr",
     "output_type": "stream",
     "text": [
      "/usr/local/lib/python3.6/dist-packages/ipykernel_launcher.py:28: UserWarning: volatile was removed and now has no effect. Use `with torch.no_grad():` instead.\n"
     ]
    },
    {
     "data": {
      "text/plain": [
       "60.099999999999994"
      ]
     },
     "execution_count": 16,
     "metadata": {
      "tags": []
     },
     "output_type": "execute_result"
    }
   ],
   "source": [
    "torch.cuda.random.manual_seed(12345)\n",
    "fixed_model_gpu.apply(reset)\n",
    "train(fixed_model_gpu, loss_fn, optimizer, num_epochs=1)\n",
    "check_accuracy(fixed_model_gpu, loader_val)"
   ]
  },
  {
   "cell_type": "markdown",
   "metadata": {
    "colab_type": "text",
    "id": "H92jByfGq8FF"
   },
   "source": [
    "### Don't forget the validation set!\n",
    "\n",
    "And note that you can use the check_accuracy function to evaluate on either the test set or the validation set, by passing either **loader_test** or **loader_val** as the second argument to check_accuracy. You should not touch the test set until you have finished your architecture and hyperparameter tuning, and only run the test set once at the end to report a final value. "
   ]
  },
  {
   "cell_type": "markdown",
   "metadata": {
    "colab_type": "text",
    "id": "_JY0kP-Hq8FL"
   },
   "source": [
    "## Train a _great_ model on CIFAR-10!\n",
    "\n",
    "Now it's your job to experiment with architectures, hyperparameters, loss functions, and optimizers to train a model that achieves **>=70%** accuracy on the CIFAR-10 **validation** set. You can use the check_accuracy and train functions from above."
   ]
  },
  {
   "cell_type": "markdown",
   "metadata": {
    "colab_type": "text",
    "id": "Eeu1PVo1q8FP"
   },
   "source": [
    "### Things you should try:\n",
    "- **Filter size**: Above we used 7x7; this makes pretty pictures but smaller filters may be more efficient\n",
    "- **Number of filters**: Above we used 32 filters. Do more or fewer do better?\n",
    "- **Pooling vs Strided Convolution**: Do you use max pooling or just stride convolutions?\n",
    "- **Batch normalization**: Try adding spatial batch normalization after convolution layers and vanilla batch normalization after affine layers. Do your networks train faster?\n",
    "- **Network architecture**: The network above has two layers of trainable parameters. Can you do better with a deep network? Good architectures to try include:\n",
    "    - [conv-relu-pool]xN -> [affine]xM -> [softmax or SVM]\n",
    "    - [conv-relu-conv-relu-pool]xN -> [affine]xM -> [softmax or SVM]\n",
    "    - [batchnorm-relu-conv]xN -> [affine]xM -> [softmax or SVM]\n",
    "- **Global Average Pooling**: Instead of flattening and then having multiple affine layers, perform convolutions until your image gets small (7x7 or so) and then perform an average pooling operation to get to a 1x1 image picture (1, 1 , Filter#), which is then reshaped into a (Filter#) vector. This is used in [Google's Inception Network](https://arxiv.org/abs/1512.00567) (See Table 1 for their architecture).\n",
    "- **Regularization**: Add l2 weight regularization, or perhaps use Dropout.\n",
    "\n",
    "### Tips for training\n",
    "For each network architecture that you try, you should tune the learning rate and regularization strength. When doing this there are a couple important things to keep in mind:\n",
    "\n",
    "- If the parameters are working well, you should see improvement within a few hundred iterations\n",
    "- Remember the coarse-to-fine approach for hyperparameter tuning: start by testing a large range of hyperparameters for just a few training iterations to find the combinations of parameters that are working at all.\n",
    "- Once you have found some sets of parameters that seem to work, search more finely around these parameters. You may need to train for more epochs.\n",
    "- You should use the validation set for hyperparameter search, and save your test set for evaluating your architecture on the best parameters as selected by the validation set.\n",
    "\n",
    "### Going above and beyond\n",
    "If you are feeling adventurous there are many other features you can implement to try and improve your performance. You are **not required** to implement any of these; however they would be good things to try for extra credit.\n",
    "\n",
    "- Alternative update steps: For the assignment we implemented SGD+momentum, RMSprop, and Adam; you could try alternatives like AdaGrad or AdaDelta.\n",
    "- Alternative activation functions such as leaky ReLU, parametric ReLU, ELU, or MaxOut.\n",
    "- Model ensembles\n",
    "- Data augmentation\n",
    "- New Architectures\n",
    "  - [ResNets](https://arxiv.org/abs/1512.03385) where the input from the previous layer is added to the output.\n",
    "  - [DenseNets](https://arxiv.org/abs/1608.06993) where inputs into previous layers are concatenated together.\n",
    "  - [This blog has an in-depth overview](https://chatbotslife.com/resnets-highwaynets-and-densenets-oh-my-9bb15918ee32)\n",
    "\n",
    "If you do decide to implement something extra, clearly describe it in the \"Extra Credit Description\" cell below.\n",
    "\n",
    "### What we expect\n",
    "At the very least, you should be able to train a ConvNet that gets at least 70% accuracy on the validation set. This is just a lower bound - if you are careful it should be possible to get accuracies much higher than that! Extra credit points will be awarded for particularly high-scoring models or unique approaches.\n",
    "\n",
    "You should use the space below to experiment and train your network. \n",
    "\n",
    "Have fun and happy training!"
   ]
  },
  {
   "cell_type": "code",
   "execution_count": 0,
   "metadata": {
    "colab": {},
    "colab_type": "code",
    "collapsed": true,
    "id": "RRNoBqPJkVkl"
   },
   "outputs": [],
   "source": [
    "#Data augmentation\n",
    "tsfm = T.Compose([T.RandomCrop(32, padding=4),\n",
    "                  T.RandomHorizontalFlip(),\n",
    "                  T.ToTensor()])\n",
    "\n",
    "cifar10_train = dset.CIFAR10('./cs231n/datasets', train=True, download=True,\n",
    "                           transform=tsfm)\n",
    "loader_train = DataLoader(cifar10_train, batch_size=64, sampler=ChunkSampler(NUM_TRAIN, 0))"
   ]
  },
  {
   "cell_type": "code",
   "execution_count": 24,
   "metadata": {
    "colab": {
     "base_uri": "https://localhost:8080/",
     "height": 10128
    },
    "colab_type": "code",
    "collapsed": false,
    "executionInfo": {
     "elapsed": 5271537,
     "status": "ok",
     "timestamp": 1539796126701,
     "user": {
      "displayName": "Lisa Chae",
      "photoUrl": "",
      "userId": "14437547710160931975"
     },
     "user_tz": -540
    },
    "id": "m18hilgNq8FT",
    "outputId": "50479d26-1823-4fa7-8b37-747e3be42473"
   },
   "outputs": [
    {
     "name": "stderr",
     "output_type": "stream",
     "text": [
      "/usr/local/lib/python3.6/dist-packages/ipykernel_launcher.py:4: UserWarning: nn.init.xavier_uniform is now deprecated in favor of nn.init.xavier_uniform_.\n",
      "  after removing the cwd from sys.path.\n"
     ]
    },
    {
     "name": "stdout",
     "output_type": "stream",
     "text": [
      "1\n",
      "Starting epoch 1 / 1\n"
     ]
    },
    {
     "name": "stderr",
     "output_type": "stream",
     "text": [
      "/usr/local/lib/python3.6/dist-packages/ipykernel_launcher.py:13: UserWarning: invalid index of a 0-dim tensor. This will be an error in PyTorch 0.5. Use tensor.item() to convert a 0-dim tensor to a Python number\n",
      "  del sys.path[0]\n"
     ]
    },
    {
     "name": "stdout",
     "output_type": "stream",
     "text": [
      "t = 100, loss = 1.6513\n",
      "t = 200, loss = 1.5566\n",
      "t = 300, loss = 1.5389\n",
      "t = 400, loss = 1.1056\n",
      "t = 500, loss = 1.2072\n",
      "t = 600, loss = 1.0627\n",
      "t = 700, loss = 1.3289\n",
      "Checking accuracy on validation set\n"
     ]
    },
    {
     "name": "stderr",
     "output_type": "stream",
     "text": [
      "/usr/local/lib/python3.6/dist-packages/ipykernel_launcher.py:28: UserWarning: volatile was removed and now has no effect. Use `with torch.no_grad():` instead.\n"
     ]
    },
    {
     "name": "stdout",
     "output_type": "stream",
     "text": [
      "Got 479 / 1000 correct (47.90)\n",
      "2\n",
      "Starting epoch 1 / 1\n",
      "t = 100, loss = 1.1117\n",
      "t = 200, loss = 0.9593\n",
      "t = 300, loss = 1.1642\n",
      "t = 400, loss = 0.8755\n",
      "t = 500, loss = 0.9868\n",
      "t = 600, loss = 1.0009\n",
      "t = 700, loss = 1.0686\n",
      "Checking accuracy on validation set\n",
      "Got 682 / 1000 correct (68.20)\n",
      "3\n",
      "Starting epoch 1 / 1\n",
      "t = 100, loss = 0.7753\n",
      "t = 200, loss = 0.7682\n",
      "t = 300, loss = 0.8432\n",
      "t = 400, loss = 0.6645\n",
      "t = 500, loss = 0.6715\n",
      "t = 600, loss = 0.6866\n",
      "t = 700, loss = 0.8276\n",
      "Checking accuracy on validation set\n",
      "Got 762 / 1000 correct (76.20)\n",
      "4\n",
      "Starting epoch 1 / 1\n",
      "t = 100, loss = 0.5223\n",
      "t = 200, loss = 0.7573\n",
      "t = 300, loss = 0.5879\n",
      "t = 400, loss = 0.5203\n",
      "t = 500, loss = 0.5900\n",
      "t = 600, loss = 0.4582\n",
      "t = 700, loss = 0.7878\n",
      "Checking accuracy on validation set\n",
      "Got 753 / 1000 correct (75.30)\n",
      "5\n",
      "Starting epoch 1 / 1\n",
      "t = 100, loss = 0.4526\n",
      "t = 200, loss = 0.6819\n",
      "t = 300, loss = 0.5324\n",
      "t = 400, loss = 0.4889\n",
      "t = 500, loss = 0.7101\n",
      "t = 600, loss = 0.5356\n",
      "t = 700, loss = 0.6931\n",
      "Checking accuracy on validation set\n",
      "Got 817 / 1000 correct (81.70)\n",
      "6\n",
      "Starting epoch 1 / 1\n",
      "t = 100, loss = 0.4493\n",
      "t = 200, loss = 0.6362\n",
      "t = 300, loss = 0.4120\n",
      "t = 400, loss = 0.4163\n",
      "t = 500, loss = 0.4581\n",
      "t = 600, loss = 0.3640\n",
      "t = 700, loss = 0.6119\n",
      "Checking accuracy on validation set\n",
      "Got 825 / 1000 correct (82.50)\n",
      "7\n",
      "Starting epoch 1 / 1\n",
      "t = 100, loss = 0.4092\n",
      "t = 200, loss = 0.5494\n",
      "t = 300, loss = 0.3577\n",
      "t = 400, loss = 0.4422\n",
      "t = 500, loss = 0.2873\n",
      "t = 600, loss = 0.3934\n",
      "t = 700, loss = 0.6785\n",
      "Checking accuracy on validation set\n",
      "Got 829 / 1000 correct (82.90)\n",
      "8\n",
      "Starting epoch 1 / 1\n",
      "t = 100, loss = 0.3266\n",
      "t = 200, loss = 0.5124\n",
      "t = 300, loss = 0.4676\n",
      "t = 400, loss = 0.4609\n",
      "t = 500, loss = 0.5297\n",
      "t = 600, loss = 0.4065\n",
      "t = 700, loss = 0.5102\n",
      "Checking accuracy on validation set\n",
      "Got 829 / 1000 correct (82.90)\n",
      "9\n",
      "Starting epoch 1 / 1\n",
      "t = 100, loss = 0.2511\n",
      "t = 200, loss = 0.4579\n",
      "t = 300, loss = 0.3024\n",
      "t = 400, loss = 0.4340\n",
      "t = 500, loss = 0.5501\n",
      "t = 600, loss = 0.2016\n",
      "t = 700, loss = 0.5576\n",
      "Checking accuracy on validation set\n",
      "Got 851 / 1000 correct (85.10)\n",
      "10\n",
      "Starting epoch 1 / 1\n",
      "t = 100, loss = 0.1379\n",
      "t = 200, loss = 0.4018\n",
      "t = 300, loss = 0.3117\n",
      "t = 400, loss = 0.4285\n",
      "t = 500, loss = 0.3872\n",
      "t = 600, loss = 0.2330\n",
      "t = 700, loss = 0.5222\n",
      "Checking accuracy on validation set\n",
      "Got 854 / 1000 correct (85.40)\n",
      "11\n",
      "Starting epoch 1 / 1\n",
      "t = 100, loss = 0.2425\n",
      "t = 200, loss = 0.3938\n",
      "t = 300, loss = 0.3202\n",
      "t = 400, loss = 0.4338\n",
      "t = 500, loss = 0.4008\n",
      "t = 600, loss = 0.1974\n",
      "t = 700, loss = 0.5567\n",
      "Checking accuracy on validation set\n",
      "Got 867 / 1000 correct (86.70)\n",
      "12\n",
      "Starting epoch 1 / 1\n",
      "t = 100, loss = 0.2010\n",
      "t = 200, loss = 0.4191\n",
      "t = 300, loss = 0.3436\n",
      "t = 400, loss = 0.3486\n",
      "t = 500, loss = 0.4317\n",
      "t = 600, loss = 0.1646\n",
      "t = 700, loss = 0.3551\n",
      "Checking accuracy on validation set\n",
      "Got 857 / 1000 correct (85.70)\n",
      "13\n",
      "Starting epoch 1 / 1\n",
      "t = 100, loss = 0.2486\n",
      "t = 200, loss = 0.3827\n",
      "t = 300, loss = 0.2705\n",
      "t = 400, loss = 0.2970\n",
      "t = 500, loss = 0.2453\n",
      "t = 600, loss = 0.1605\n",
      "t = 700, loss = 0.5900\n",
      "Checking accuracy on validation set\n",
      "Got 866 / 1000 correct (86.60)\n",
      "14\n",
      "Starting epoch 1 / 1\n",
      "t = 100, loss = 0.1269\n",
      "t = 200, loss = 0.2434\n",
      "t = 300, loss = 0.2450\n",
      "t = 400, loss = 0.2961\n",
      "t = 500, loss = 0.4126\n",
      "t = 600, loss = 0.1682\n",
      "t = 700, loss = 0.3890\n",
      "Checking accuracy on validation set\n",
      "Got 870 / 1000 correct (87.00)\n",
      "15\n",
      "Starting epoch 1 / 1\n",
      "t = 100, loss = 0.1039\n",
      "t = 200, loss = 0.3139\n",
      "t = 300, loss = 0.1994\n",
      "t = 400, loss = 0.3988\n",
      "t = 500, loss = 0.4386\n",
      "t = 600, loss = 0.2704\n",
      "t = 700, loss = 0.3568\n",
      "Checking accuracy on validation set\n",
      "Got 879 / 1000 correct (87.90)\n",
      "16\n",
      "Starting epoch 1 / 1\n",
      "t = 100, loss = 0.1609\n",
      "t = 200, loss = 0.2210\n",
      "t = 300, loss = 0.1958\n",
      "t = 400, loss = 0.3512\n",
      "t = 500, loss = 0.3753\n",
      "t = 600, loss = 0.1991\n",
      "t = 700, loss = 0.4779\n",
      "Checking accuracy on validation set\n",
      "Got 870 / 1000 correct (87.00)\n",
      "17\n",
      "Starting epoch 1 / 1\n",
      "t = 100, loss = 0.1581\n",
      "t = 200, loss = 0.2866\n",
      "t = 300, loss = 0.2840\n",
      "t = 400, loss = 0.3669\n",
      "t = 500, loss = 0.2578\n",
      "t = 600, loss = 0.1414\n",
      "t = 700, loss = 0.3513\n",
      "Checking accuracy on validation set\n",
      "Got 847 / 1000 correct (84.70)\n",
      "18\n",
      "Starting epoch 1 / 1\n",
      "t = 100, loss = 0.1036\n",
      "t = 200, loss = 0.2351\n",
      "t = 300, loss = 0.1940\n",
      "t = 400, loss = 0.3312\n",
      "t = 500, loss = 0.2969\n",
      "t = 600, loss = 0.2122\n",
      "t = 700, loss = 0.2824\n",
      "Checking accuracy on validation set\n",
      "Got 881 / 1000 correct (88.10)\n",
      "19\n",
      "Starting epoch 1 / 1\n",
      "t = 100, loss = 0.1733\n",
      "t = 200, loss = 0.2443\n",
      "t = 300, loss = 0.1986\n",
      "t = 400, loss = 0.2830\n",
      "t = 500, loss = 0.2872\n",
      "t = 600, loss = 0.2418\n",
      "t = 700, loss = 0.3692\n",
      "Checking accuracy on validation set\n",
      "Got 895 / 1000 correct (89.50)\n",
      "20\n",
      "Starting epoch 1 / 1\n",
      "t = 100, loss = 0.1428\n",
      "t = 200, loss = 0.3007\n",
      "t = 300, loss = 0.1601\n",
      "t = 400, loss = 0.3090\n",
      "t = 500, loss = 0.2109\n",
      "t = 600, loss = 0.1325\n",
      "t = 700, loss = 0.4205\n",
      "Checking accuracy on validation set\n",
      "Got 868 / 1000 correct (86.80)\n",
      "21\n",
      "Starting epoch 1 / 1\n",
      "t = 100, loss = 0.1271\n",
      "t = 200, loss = 0.1302\n",
      "t = 300, loss = 0.2957\n",
      "t = 400, loss = 0.1736\n",
      "t = 500, loss = 0.3170\n",
      "t = 600, loss = 0.1805\n",
      "t = 700, loss = 0.2935\n",
      "Checking accuracy on validation set\n",
      "Got 874 / 1000 correct (87.40)\n",
      "22\n",
      "Starting epoch 1 / 1\n",
      "t = 100, loss = 0.1344\n",
      "t = 200, loss = 0.2109\n",
      "t = 300, loss = 0.1130\n",
      "t = 400, loss = 0.2155\n",
      "t = 500, loss = 0.2752\n",
      "t = 600, loss = 0.1697\n",
      "t = 700, loss = 0.1771\n",
      "Checking accuracy on validation set\n",
      "Got 871 / 1000 correct (87.10)\n",
      "23\n",
      "Starting epoch 1 / 1\n",
      "t = 100, loss = 0.0983\n",
      "t = 200, loss = 0.2337\n",
      "t = 300, loss = 0.1856\n",
      "t = 400, loss = 0.3400\n",
      "t = 500, loss = 0.3589\n",
      "t = 600, loss = 0.1616\n",
      "t = 700, loss = 0.3204\n",
      "Checking accuracy on validation set\n",
      "Got 890 / 1000 correct (89.00)\n",
      "24\n",
      "Starting epoch 1 / 1\n",
      "t = 100, loss = 0.0986\n",
      "t = 200, loss = 0.1864\n",
      "t = 300, loss = 0.2809\n",
      "t = 400, loss = 0.1716\n",
      "t = 500, loss = 0.4666\n",
      "t = 600, loss = 0.1110\n",
      "t = 700, loss = 0.2430\n",
      "Checking accuracy on validation set\n",
      "Got 884 / 1000 correct (88.40)\n",
      "25\n",
      "Starting epoch 1 / 1\n",
      "t = 100, loss = 0.1150\n",
      "t = 200, loss = 0.0852\n",
      "t = 300, loss = 0.2057\n",
      "t = 400, loss = 0.1811\n",
      "t = 500, loss = 0.2540\n",
      "t = 600, loss = 0.0870\n",
      "t = 700, loss = 0.3538\n",
      "Checking accuracy on validation set\n",
      "Got 878 / 1000 correct (87.80)\n",
      "26\n",
      "Starting epoch 1 / 1\n",
      "t = 100, loss = 0.2614\n",
      "t = 200, loss = 0.1421\n",
      "t = 300, loss = 0.1717\n",
      "t = 400, loss = 0.2193\n",
      "t = 500, loss = 0.1640\n",
      "t = 600, loss = 0.0830\n",
      "t = 700, loss = 0.2185\n",
      "Checking accuracy on validation set\n",
      "Got 889 / 1000 correct (88.90)\n",
      "27\n",
      "Starting epoch 1 / 1\n",
      "t = 100, loss = 0.1182\n",
      "t = 200, loss = 0.1219\n",
      "t = 300, loss = 0.1940\n",
      "t = 400, loss = 0.2197\n",
      "t = 500, loss = 0.2010\n",
      "t = 600, loss = 0.1138\n",
      "t = 700, loss = 0.2175\n",
      "Checking accuracy on validation set\n",
      "Got 884 / 1000 correct (88.40)\n",
      "28\n",
      "Starting epoch 1 / 1\n",
      "t = 100, loss = 0.1361\n",
      "t = 200, loss = 0.1450\n",
      "t = 300, loss = 0.1584\n",
      "t = 400, loss = 0.0993\n",
      "t = 500, loss = 0.2952\n",
      "t = 600, loss = 0.0560\n",
      "t = 700, loss = 0.2844\n",
      "Checking accuracy on validation set\n",
      "Got 885 / 1000 correct (88.50)\n",
      "29\n",
      "Starting epoch 1 / 1\n",
      "t = 100, loss = 0.0689\n",
      "t = 200, loss = 0.1352\n",
      "t = 300, loss = 0.1407\n",
      "t = 400, loss = 0.1799\n",
      "t = 500, loss = 0.1329\n",
      "t = 600, loss = 0.0347\n",
      "t = 700, loss = 0.1339\n",
      "Checking accuracy on validation set\n",
      "Got 855 / 1000 correct (85.50)\n",
      "30\n",
      "Starting epoch 1 / 1\n",
      "t = 100, loss = 0.0203\n",
      "t = 200, loss = 0.2175\n",
      "t = 300, loss = 0.2666\n",
      "t = 400, loss = 0.1894\n",
      "t = 500, loss = 0.1913\n",
      "t = 600, loss = 0.0473\n",
      "t = 700, loss = 0.1686\n",
      "Checking accuracy on validation set\n",
      "Got 883 / 1000 correct (88.30)\n",
      "31\n",
      "Starting epoch 1 / 1\n",
      "t = 100, loss = 0.1085\n",
      "t = 200, loss = 0.0924\n",
      "t = 300, loss = 0.1715\n",
      "t = 400, loss = 0.2344\n",
      "t = 500, loss = 0.1033\n",
      "t = 600, loss = 0.1047\n",
      "t = 700, loss = 0.0997\n",
      "Checking accuracy on validation set\n",
      "Got 898 / 1000 correct (89.80)\n",
      "32\n",
      "Starting epoch 1 / 1\n",
      "t = 100, loss = 0.0617\n",
      "t = 200, loss = 0.1574\n",
      "t = 300, loss = 0.0651\n",
      "t = 400, loss = 0.2587\n",
      "t = 500, loss = 0.1528\n",
      "t = 600, loss = 0.0409\n",
      "t = 700, loss = 0.2904\n",
      "Checking accuracy on validation set\n",
      "Got 884 / 1000 correct (88.40)\n",
      "33\n",
      "Starting epoch 1 / 1\n",
      "t = 100, loss = 0.0266\n",
      "t = 200, loss = 0.0565\n",
      "t = 300, loss = 0.0879\n",
      "t = 400, loss = 0.2780\n",
      "t = 500, loss = 0.1285\n",
      "t = 600, loss = 0.2151\n",
      "t = 700, loss = 0.2617\n",
      "Checking accuracy on validation set\n",
      "Got 887 / 1000 correct (88.70)\n",
      "34\n",
      "Starting epoch 1 / 1\n",
      "t = 100, loss = 0.1282\n",
      "t = 200, loss = 0.2308\n",
      "t = 300, loss = 0.1539\n",
      "t = 400, loss = 0.1408\n",
      "t = 500, loss = 0.0833\n",
      "t = 600, loss = 0.0632\n",
      "t = 700, loss = 0.2148\n",
      "Checking accuracy on validation set\n",
      "Got 894 / 1000 correct (89.40)\n",
      "35\n",
      "Starting epoch 1 / 1\n",
      "t = 100, loss = 0.1518\n",
      "t = 200, loss = 0.1369\n",
      "t = 300, loss = 0.0851\n",
      "t = 400, loss = 0.0600\n",
      "t = 500, loss = 0.1036\n",
      "t = 600, loss = 0.1773\n",
      "t = 700, loss = 0.1045\n",
      "Checking accuracy on validation set\n",
      "Got 889 / 1000 correct (88.90)\n",
      "36\n",
      "Starting epoch 1 / 1\n",
      "t = 100, loss = 0.0992\n",
      "t = 200, loss = 0.1834\n",
      "t = 300, loss = 0.0801\n",
      "t = 400, loss = 0.1421\n",
      "t = 500, loss = 0.1705\n",
      "t = 600, loss = 0.2019\n",
      "t = 700, loss = 0.1539\n",
      "Checking accuracy on validation set\n",
      "Got 897 / 1000 correct (89.70)\n",
      "37\n",
      "Starting epoch 1 / 1\n",
      "t = 100, loss = 0.0637\n",
      "t = 200, loss = 0.1739\n",
      "t = 300, loss = 0.1578\n",
      "t = 400, loss = 0.0971\n",
      "t = 500, loss = 0.1457\n",
      "t = 600, loss = 0.0897\n",
      "t = 700, loss = 0.2341\n",
      "Checking accuracy on validation set\n",
      "Got 891 / 1000 correct (89.10)\n",
      "38\n",
      "Starting epoch 1 / 1\n",
      "t = 100, loss = 0.0665\n",
      "t = 200, loss = 0.1060\n",
      "t = 300, loss = 0.1948\n",
      "t = 400, loss = 0.1281\n",
      "t = 500, loss = 0.2236\n",
      "t = 600, loss = 0.1127\n",
      "t = 700, loss = 0.1343\n",
      "Checking accuracy on validation set\n",
      "Got 876 / 1000 correct (87.60)\n",
      "39\n",
      "Starting epoch 1 / 1\n",
      "t = 100, loss = 0.0168\n",
      "t = 200, loss = 0.0977\n",
      "t = 300, loss = 0.1442\n",
      "t = 400, loss = 0.1123\n",
      "t = 500, loss = 0.1141\n",
      "t = 600, loss = 0.0661\n",
      "t = 700, loss = 0.1615\n",
      "Checking accuracy on validation set\n",
      "Got 884 / 1000 correct (88.40)\n",
      "40\n",
      "Starting epoch 1 / 1\n",
      "t = 100, loss = 0.0192\n",
      "t = 200, loss = 0.1315\n",
      "t = 300, loss = 0.0811\n",
      "t = 400, loss = 0.0843\n",
      "t = 500, loss = 0.0499\n",
      "t = 600, loss = 0.1130\n",
      "t = 700, loss = 0.0727\n",
      "Checking accuracy on validation set\n",
      "Got 893 / 1000 correct (89.30)\n",
      "41\n",
      "Starting epoch 1 / 1\n",
      "t = 100, loss = 0.0389\n",
      "t = 200, loss = 0.0283\n",
      "t = 300, loss = 0.0868\n",
      "t = 400, loss = 0.1845\n",
      "t = 500, loss = 0.0378\n",
      "t = 600, loss = 0.0655\n",
      "t = 700, loss = 0.1210\n",
      "Checking accuracy on validation set\n",
      "Got 871 / 1000 correct (87.10)\n",
      "42\n",
      "Starting epoch 1 / 1\n",
      "t = 100, loss = 0.0665\n",
      "t = 200, loss = 0.2439\n",
      "t = 300, loss = 0.0799\n",
      "t = 400, loss = 0.0605\n",
      "t = 500, loss = 0.1289\n",
      "t = 600, loss = 0.0873\n",
      "t = 700, loss = 0.0973\n",
      "Checking accuracy on validation set\n",
      "Got 886 / 1000 correct (88.60)\n",
      "43\n",
      "Starting epoch 1 / 1\n",
      "t = 100, loss = 0.0773\n",
      "t = 200, loss = 0.0605\n",
      "t = 300, loss = 0.0066\n",
      "t = 400, loss = 0.0780\n",
      "t = 500, loss = 0.0555\n",
      "t = 600, loss = 0.0587\n",
      "t = 700, loss = 0.1756\n",
      "Checking accuracy on validation set\n",
      "Got 882 / 1000 correct (88.20)\n",
      "44\n",
      "Starting epoch 1 / 1\n",
      "t = 100, loss = 0.0249\n",
      "t = 200, loss = 0.1316\n",
      "t = 300, loss = 0.0482\n",
      "t = 400, loss = 0.0266\n",
      "t = 500, loss = 0.1291\n",
      "t = 600, loss = 0.0780\n",
      "t = 700, loss = 0.1157\n",
      "Checking accuracy on validation set\n",
      "Got 876 / 1000 correct (87.60)\n",
      "45\n",
      "Starting epoch 1 / 1\n",
      "t = 100, loss = 0.0508\n",
      "t = 200, loss = 0.1521\n",
      "t = 300, loss = 0.0770\n",
      "t = 400, loss = 0.0925\n",
      "t = 500, loss = 0.1298\n",
      "t = 600, loss = 0.1113\n",
      "t = 700, loss = 0.0878\n",
      "Checking accuracy on validation set\n",
      "Got 879 / 1000 correct (87.90)\n",
      "46\n",
      "Starting epoch 1 / 1\n",
      "t = 100, loss = 0.0739\n",
      "t = 200, loss = 0.0879\n",
      "t = 300, loss = 0.1210\n",
      "t = 400, loss = 0.0845\n",
      "t = 500, loss = 0.0746\n",
      "t = 600, loss = 0.0619\n",
      "t = 700, loss = 0.0514\n",
      "Checking accuracy on validation set\n",
      "Got 888 / 1000 correct (88.80)\n",
      "47\n",
      "Starting epoch 1 / 1\n",
      "t = 100, loss = 0.0166\n",
      "t = 200, loss = 0.0381\n",
      "t = 300, loss = 0.1204\n",
      "t = 400, loss = 0.0063\n",
      "t = 500, loss = 0.1468\n",
      "t = 600, loss = 0.0524\n",
      "t = 700, loss = 0.1686\n",
      "Checking accuracy on validation set\n",
      "Got 884 / 1000 correct (88.40)\n",
      "48\n",
      "Starting epoch 1 / 1\n",
      "t = 100, loss = 0.0456\n",
      "t = 200, loss = 0.1700\n",
      "t = 300, loss = 0.1042\n",
      "t = 400, loss = 0.1393\n",
      "t = 500, loss = 0.0509\n",
      "t = 600, loss = 0.0587\n",
      "t = 700, loss = 0.0970\n",
      "Checking accuracy on validation set\n",
      "Got 882 / 1000 correct (88.20)\n",
      "49\n",
      "Starting epoch 1 / 1\n",
      "t = 100, loss = 0.0376\n",
      "t = 200, loss = 0.0774\n",
      "t = 300, loss = 0.1280\n",
      "t = 400, loss = 0.0797\n",
      "t = 500, loss = 0.0831\n",
      "t = 600, loss = 0.1378\n",
      "t = 700, loss = 0.1119\n",
      "Checking accuracy on validation set\n",
      "Got 885 / 1000 correct (88.50)\n",
      "50\n",
      "Starting epoch 1 / 1\n",
      "t = 100, loss = 0.0826\n",
      "t = 200, loss = 0.1047\n",
      "t = 300, loss = 0.0690\n",
      "t = 400, loss = 0.0496\n",
      "t = 500, loss = 0.1669\n",
      "t = 600, loss = 0.0178\n",
      "t = 700, loss = 0.1729\n",
      "Checking accuracy on validation set\n",
      "Got 886 / 1000 correct (88.60)\n"
     ]
    }
   ],
   "source": [
    "# Train your model here, and make sure the output of this cell is the accuracy of your best model on the \n",
    "# train, val, and test sets. Here's some code to get you started. The output of this cell should be the training\n",
    "# and validation accuracy on your best model (measured by validation accuracy).\n",
    "\n",
    "#Xavier initialization\n",
    "from torch.nn import init\n",
    "def init_weights(m):\n",
    "    if type(m) == nn.Linear:\n",
    "        nn.init.xavier_uniform(m.weight)\n",
    "        m.bias.data.fill_(0.01)\n",
    "\n",
    "best_val = 0\n",
    "best_model = None\n",
    "\n",
    "#Hyperparameters w/ best performance\n",
    "k = 3\n",
    "p = 1\n",
    "s = 1\n",
    "d = 0.2\n",
    "l = 1e-3\n",
    "\n",
    "model = nn.Sequential(\n",
    "            nn.Conv2d(in_channels=3, out_channels=64, kernel_size=k, stride=s, padding=p),\n",
    "            nn.PReLU(),\n",
    "            nn.BatchNorm2d(num_features=64),\n",
    "            nn.Dropout(p=d),\n",
    "                            \n",
    "            nn.Conv2d(in_channels=64, out_channels=64, kernel_size=k, stride=s, padding=p),\n",
    "            nn.PReLU(),\n",
    "            nn.BatchNorm2d(num_features=64),\n",
    "            nn.Dropout(p=d),\n",
    "                            \n",
    "            nn.MaxPool2d(kernel_size=2, stride=2),\n",
    "                            \n",
    "            nn.Conv2d(in_channels=64, out_channels=128, kernel_size=k, stride=s, padding=p),\n",
    "            nn.PReLU(),\n",
    "            nn.BatchNorm2d(num_features=128),\n",
    "            nn.Dropout(p=d),\n",
    "                            \n",
    "            nn.Conv2d(in_channels=128, out_channels=128, kernel_size=k, stride=s, padding=p),\n",
    "            nn.PReLU(),\n",
    "            nn.BatchNorm2d(num_features=128),\n",
    "            nn.Dropout(p=d),\n",
    "                            \n",
    "            nn.MaxPool2d(kernel_size=2, stride=2),\n",
    "                            \n",
    "            nn.Conv2d(in_channels=128, out_channels=256, kernel_size=k, stride=s, padding=p),\n",
    "            nn.PReLU(),\n",
    "            nn.BatchNorm2d(num_features=256),\n",
    "            nn.Dropout(p=d),\n",
    "                            \n",
    "            nn.Conv2d(in_channels=256, out_channels=256, kernel_size=k, stride=s, padding=p),\n",
    "            nn.PReLU(),\n",
    "            nn.BatchNorm2d(num_features=256),\n",
    "            nn.Dropout(p=d),\n",
    "\n",
    "            nn.Conv2d(in_channels=256, out_channels=256, kernel_size=k, stride=s, padding=p),\n",
    "            nn.PReLU(),\n",
    "            nn.BatchNorm2d(num_features=256),\n",
    "            nn.Dropout(p=d),\n",
    "    \n",
    "            nn.MaxPool2d(kernel_size=2, stride=2),\n",
    "                            \n",
    "            nn.Conv2d(in_channels=256, out_channels=512, kernel_size=k, stride=s, padding=p),\n",
    "            nn.PReLU(),\n",
    "            nn.BatchNorm2d(num_features=512),\n",
    "            nn.Dropout(p=d),     \n",
    "\n",
    "            nn.Conv2d(in_channels=512, out_channels=512, kernel_size=k, stride=s, padding=p),\n",
    "            nn.PReLU(),\n",
    "            nn.BatchNorm2d(num_features=512),\n",
    "            nn.Dropout(p=d),\n",
    "\n",
    "            nn.Conv2d(in_channels=512, out_channels=512, kernel_size=k, stride=s, padding=p),\n",
    "            nn.PReLU(),\n",
    "            nn.BatchNorm2d(num_features=512),\n",
    "            nn.Dropout(p=d),\n",
    "                            \n",
    "            nn.MaxPool2d(kernel_size=2, stride=2),\n",
    "                            \n",
    "            Flatten(),\n",
    "            nn.Linear(512*2*2, 1024), \n",
    "            nn.PReLU(),\n",
    "            nn.BatchNorm1d(num_features=1024),\n",
    "            nn.Linear(1024, 10)\n",
    "            )\n",
    "\n",
    "#Apply initialization\n",
    "model.apply(init_weights)\n",
    "\n",
    "conv_model = model.type(gpu_dtype)\n",
    "                    \n",
    "torch.cuda.random.manual_seed(12345)\n",
    "model.apply(reset)\n",
    "\n",
    "loss_fn = nn.CrossEntropyLoss().type(gpu_dtype)\n",
    "optimizer = optim.Adam(conv_model.parameters(), lr=l)\n",
    "\n",
    "epochs = 50\n",
    "for epoch in range(epochs):\n",
    "    print(epoch+1)\n",
    "    train(conv_model, loss_fn, optimizer, num_epochs=1)\n",
    "    acc_val = check_accuracy(conv_model, loader_val)\n",
    "\n",
    "    if best_val < acc_val:\n",
    "        best_val = acc_val\n",
    "        best_params = [k, p, s, d, l]\n",
    "        best_model = conv_model"
   ]
  },
  {
   "cell_type": "code",
   "execution_count": 25,
   "metadata": {
    "colab": {
     "base_uri": "https://localhost:8080/",
     "height": 54
    },
    "colab_type": "code",
    "collapsed": false,
    "executionInfo": {
     "elapsed": 1020,
     "status": "ok",
     "timestamp": 1539797742149,
     "user": {
      "displayName": "Lisa Chae",
      "photoUrl": "",
      "userId": "14437547710160931975"
     },
     "user_tz": -540
    },
    "id": "Kf1mt0XGpKGd",
    "outputId": "dd887a18-46be-4243-a9a6-7887e3e0d70a"
   },
   "outputs": [
    {
     "name": "stdout",
     "output_type": "stream",
     "text": [
      "Best accuracy: 89.800000\n",
      "Kernel size: 3 / Padding: 1 / Stride: 1 / Dropout: 0.200000 / LR: 1.000000e-03\n"
     ]
    }
   ],
   "source": [
    "print('Best accuracy: %f' % best_val)\n",
    "print('Kernel size: %d / Padding: %d / Stride: %d / Dropout: %f / LR: %e' \n",
    "      % (best_params[0], best_params[1], best_params[2], best_params[3], best_params[4]))"
   ]
  },
  {
   "cell_type": "markdown",
   "metadata": {
    "colab_type": "text",
    "id": "_PUFdlesq8Fc"
   },
   "source": [
    "### Describe what you did \n",
    "\n",
    "In the cell below you should write an explanation of what you did, any additional features that you implemented, and any visualizations or graphs that you make in the process of training and evaluating your network."
   ]
  },
  {
   "cell_type": "markdown",
   "metadata": {
    "colab_type": "text",
    "id": "Xghx5UUrq8Ff"
   },
   "source": [
    "First, I experimented with a range of different hyperparameters, using the coarse-to-fine approach.\n",
    "After a few (a lot of) attempts, I found that a 3x3 filter with size 1 zero-padding and stride 1 yielded the best results. Out of dropout rates 0.2, 0.3, and 0.4, 0.2 had the best results. I looked at learning rates of 0.01, 0.001, and 0.0001, out of which I chose 0.001.\n",
    "\n",
    "I started with a simple model with one convolution, ReLU, batch normalization, and pooling layer.\n",
    "I implemented the VGGNet architecture, with pooling layers between every increase in ouput channels, where each set of convlution layers consists of a convolution layer, ReLU(parametric ReLU), spatial batch normalization, and dropout. I added vanilla batch normalization after the affine layer as I found this helped increase accuracy. After two convolution layers, I added 2x2 max pooling with stride 2. \n",
    "\n",
    "+) used Xavier initialization\n",
    "\n",
    "+) added data augmentation - accuracy increase from 84 -> 89\n",
    "\n"
   ]
  },
  {
   "cell_type": "markdown",
   "metadata": {
    "colab_type": "text",
    "id": "LyjCkmmwq8GG"
   },
   "source": [
    "## Test set -- run this only once\n",
    "\n",
    "Now that we've gotten a result we're happy with, we test our final model on the test set (which you should store in best_model).  This would be the score we would achieve on a competition. Think about how this compares to your validation set accuracy."
   ]
  },
  {
   "cell_type": "code",
   "execution_count": 26,
   "metadata": {
    "colab": {
     "base_uri": "https://localhost:8080/",
     "height": 110
    },
    "colab_type": "code",
    "collapsed": false,
    "executionInfo": {
     "elapsed": 7092,
     "status": "ok",
     "timestamp": 1539797849509,
     "user": {
      "displayName": "Lisa Chae",
      "photoUrl": "",
      "userId": "14437547710160931975"
     },
     "user_tz": -540
    },
    "id": "caIrmazAq8GR",
    "outputId": "47f36410-97b9-467a-88b6-3a4e47ff1e4a"
   },
   "outputs": [
    {
     "name": "stdout",
     "output_type": "stream",
     "text": [
      "Checking accuracy on test set\n"
     ]
    },
    {
     "name": "stderr",
     "output_type": "stream",
     "text": [
      "/usr/local/lib/python3.6/dist-packages/ipykernel_launcher.py:28: UserWarning: volatile was removed and now has no effect. Use `with torch.no_grad():` instead.\n"
     ]
    },
    {
     "name": "stdout",
     "output_type": "stream",
     "text": [
      "Got 8905 / 10000 correct (89.05)\n"
     ]
    },
    {
     "data": {
      "text/plain": [
       "89.05"
      ]
     },
     "execution_count": 26,
     "metadata": {
      "tags": []
     },
     "output_type": "execute_result"
    }
   ],
   "source": [
    "best_model = conv_model\n",
    "check_accuracy(best_model, loader_test)"
   ]
  },
  {
   "cell_type": "markdown",
   "metadata": {
    "colab_type": "text",
    "id": "QKvnxKaBq8GZ"
   },
   "source": [
    "## Going further with PyTorch\n",
    "\n",
    "The next assignment will make heavy use of PyTorch. You might also find it useful for your projects. \n",
    "\n",
    "Here's a nice tutorial by Justin Johnson that shows off some of PyTorch's features, like dynamic graphs and custom NN modules: http://pytorch.org/tutorials/beginner/pytorch_with_examples.html\n",
    "\n",
    "If you're interested in reinforcement learning for your final project, this is a good (more advanced) DQN tutorial in PyTorch: http://pytorch.org/tutorials/intermediate/reinforcement_q_learning.html"
   ]
  }
 ],
 "metadata": {
  "accelerator": "GPU",
  "colab": {
   "collapsed_sections": [],
   "name": "PyTorch.ipynb의 사본",
   "provenance": [
    {
     "file_id": "12QRe0DMOHbxNgk9OEgVUspb5VCwtAUfq",
     "timestamp": 1539804989082
    }
   ],
   "version": "0.3.2"
  },
  "kernelspec": {
   "display_name": "Python 3",
   "language": "python",
   "name": "python3"
  },
  "language_info": {
   "codemirror_mode": {
    "name": "ipython",
    "version": 3
   },
   "file_extension": ".py",
   "mimetype": "text/x-python",
   "name": "python",
   "nbconvert_exporter": "python",
   "pygments_lexer": "ipython3",
   "version": "3.6.0"
  }
 },
 "nbformat": 4,
 "nbformat_minor": 0
}
