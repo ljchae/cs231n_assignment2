{
 "cells": [
  {
   "cell_type": "markdown",
   "metadata": {
    "colab_type": "text",
    "id": "Fq2Rz0A7q79D"
   },
   "source": [
    "# Training a ConvNet PyTorch\n",
    "\n",
    "In this notebook, you'll learn how to use the powerful PyTorch framework to specify a conv net architecture and train it on the CIFAR-10 dataset."
   ]
  },
  {
   "cell_type": "code",
   "execution_count": 2,
   "metadata": {
    "colab": {
     "base_uri": "https://localhost:8080/",
     "height": 55
    },
    "colab_type": "code",
    "collapsed": false,
    "executionInfo": {
     "elapsed": 46700,
     "status": "ok",
     "timestamp": 1539699576791,
     "user": {
      "displayName": "Lisa Chae",
      "photoUrl": "",
      "userId": "14437547710160931975"
     },
     "user_tz": -540
    },
    "id": "EPT7mCGmrM28",
    "outputId": "3b61c653-a00a-4de7-a750-bf768e51bce2"
   },
   "outputs": [
    {
     "name": "stdout",
     "output_type": "stream",
     "text": [
      "tcmalloc: large alloc 1073750016 bytes == 0x58920000 @  0x7fc9493dd2a4 0x594e17 0x626104 0x51190a 0x4f5277 0x510c78 0x5119bd 0x4f5277 0x4f3338 0x510fb0 0x5119bd 0x4f5277 0x4f3338 0x510fb0 0x5119bd 0x4f5277 0x4f3338 0x510fb0 0x5119bd 0x4f6070 0x510c78 0x5119bd 0x4f5277 0x4f3338 0x510fb0 0x5119bd 0x4f6070 0x4f3338 0x510fb0 0x5119bd 0x4f6070\n"
     ]
    }
   ],
   "source": [
    "# http://pytorch.org/\n",
    "from os.path import exists\n",
    "from wheel.pep425tags import get_abbr_impl, get_impl_ver, get_abi_tag\n",
    "platform = '{}{}-{}'.format(get_abbr_impl(), get_impl_ver(), get_abi_tag())\n",
    "cuda_output = !ldconfig -p|grep cudart.so|sed -e 's/.*\\.\\([0-9]*\\)\\.\\([0-9]*\\)$/cu\\1\\2/'\n",
    "accelerator = cuda_output[0] if exists('/dev/nvidia0') else 'cpu'\n",
    "\n",
    "!pip install -q http://download.pytorch.org/whl/{accelerator}/torch-0.4.1-{platform}-linux_x86_64.whl torchvision\n",
    "import torch"
   ]
  },
  {
   "cell_type": "code",
   "execution_count": 0,
   "metadata": {
    "colab": {},
    "colab_type": "code",
    "collapsed": true,
    "id": "itmEB5_Yq79G"
   },
   "outputs": [],
   "source": [
    "import torch\n",
    "import torch.nn as nn\n",
    "import torch.optim as optim\n",
    "from torch.autograd import Variable\n",
    "from torch.utils.data import DataLoader\n",
    "from torch.utils.data import sampler\n",
    "\n",
    "import torchvision.datasets as dset\n",
    "import torchvision.transforms as T\n",
    "\n",
    "import numpy as np\n",
    "\n",
    "import timeit"
   ]
  },
  {
   "cell_type": "markdown",
   "metadata": {
    "colab_type": "text",
    "id": "B1ALKkvxq79Q"
   },
   "source": [
    "## What's this PyTorch business?\n",
    "\n",
    "You've written a lot of code in this assignment to provide a whole host of neural network functionality. Dropout, Batch Norm, and 2D convolutions are some of the workhorses of deep learning in computer vision. You've also worked hard to make your code efficient and vectorized.\n",
    "\n",
    "For the last part of this assignment, though, we're going to leave behind your beautiful codebase and instead migrate to one of two popular deep learning frameworks: in this instance, PyTorch (or TensorFlow, if you switch over to that notebook). \n",
    "\n",
    "Why?\n",
    "\n",
    "* Our code will now run on GPUs! Much faster training. When using a framework like PyTorch or TensorFlow you can harness the power of the GPU for your own custom neural network architectures without having to write CUDA code directly (which is beyond the scope of this class).\n",
    "* We want you to be ready to use one of these frameworks for your project so you can experiment more efficiently than if you were writing every feature you want to use by hand. \n",
    "* We want you to stand on the shoulders of giants! TensorFlow and PyTorch are both excellent frameworks that will make your lives a lot easier, and now that you understand their guts, you are free to use them :) \n",
    "* We want you to be exposed to the sort of deep learning code you might run into in academia or industry. "
   ]
  },
  {
   "cell_type": "markdown",
   "metadata": {
    "colab_type": "text",
    "id": "AtpgyCqLq79T"
   },
   "source": [
    "## How will I learn PyTorch?\n",
    "\n",
    "If you've used Torch before, but are new to PyTorch, this tutorial might be of use: http://pytorch.org/tutorials/beginner/former_torchies_tutorial.html\n",
    "\n",
    "Otherwise, this notebook will walk you through much of what you need to do to train models in Torch. See the end of the notebook for some links to helpful tutorials if you want to learn more or need further clarification on topics that aren't fully explained here."
   ]
  },
  {
   "cell_type": "markdown",
   "metadata": {
    "colab_type": "text",
    "id": "uap5s1iDq79W"
   },
   "source": [
    "## Load Datasets\n",
    "\n",
    "We load the CIFAR-10 dataset. This might take a couple minutes the first time you do it, but the files should stay cached after that."
   ]
  },
  {
   "cell_type": "code",
   "execution_count": 4,
   "metadata": {
    "colab": {
     "base_uri": "https://localhost:8080/",
     "height": 71
    },
    "colab_type": "code",
    "collapsed": false,
    "executionInfo": {
     "elapsed": 56338,
     "status": "ok",
     "timestamp": 1539699674656,
     "user": {
      "displayName": "Lisa Chae",
      "photoUrl": "",
      "userId": "14437547710160931975"
     },
     "user_tz": -540
    },
    "id": "D8XRh9TFq79a",
    "outputId": "e65fa0da-71ea-42d5-cf4a-43a9a4d3bdd1"
   },
   "outputs": [
    {
     "name": "stdout",
     "output_type": "stream",
     "text": [
      "Downloading https://www.cs.toronto.edu/~kriz/cifar-10-python.tar.gz to ./cs231n/datasets/cifar-10-python.tar.gz\n",
      "Files already downloaded and verified\n",
      "Files already downloaded and verified\n"
     ]
    }
   ],
   "source": [
    "class ChunkSampler(sampler.Sampler):\n",
    "    \"\"\"Samples elements sequentially from some offset. \n",
    "    Arguments:\n",
    "        num_samples: # of desired datapoints\n",
    "        start: offset where we should start selecting from\n",
    "    \"\"\"\n",
    "    def __init__(self, num_samples, start = 0):\n",
    "        self.num_samples = num_samples\n",
    "        self.start = start\n",
    "\n",
    "    def __iter__(self):\n",
    "        return iter(range(self.start, self.start + self.num_samples))\n",
    "\n",
    "    def __len__(self):\n",
    "        return self.num_samples\n",
    "\n",
    "NUM_TRAIN = 49000\n",
    "NUM_VAL = 1000\n",
    "\n",
    "cifar10_train = dset.CIFAR10('./cs231n/datasets', train=True, download=True,\n",
    "                           transform=T.ToTensor())\n",
    "loader_train = DataLoader(cifar10_train, batch_size=64, sampler=ChunkSampler(NUM_TRAIN, 0))\n",
    "\n",
    "cifar10_val = dset.CIFAR10('./cs231n/datasets', train=True, download=True,\n",
    "                           transform=T.ToTensor())\n",
    "loader_val = DataLoader(cifar10_val, batch_size=64, sampler=ChunkSampler(NUM_VAL, NUM_TRAIN))\n",
    "\n",
    "cifar10_test = dset.CIFAR10('./cs231n/datasets', train=False, download=True,\n",
    "                          transform=T.ToTensor())\n",
    "loader_test = DataLoader(cifar10_test, batch_size=64)\n"
   ]
  },
  {
   "cell_type": "markdown",
   "metadata": {
    "colab_type": "text",
    "id": "go5AtWjMq79s"
   },
   "source": [
    "For now, we're going to use a CPU-friendly datatype. Later, we'll switch to a datatype that will move all our computations to the GPU and measure the speedup."
   ]
  },
  {
   "cell_type": "code",
   "execution_count": 0,
   "metadata": {
    "colab": {},
    "colab_type": "code",
    "collapsed": true,
    "id": "lcudUloJq79u"
   },
   "outputs": [],
   "source": [
    "dtype = torch.FloatTensor # the CPU datatype\n",
    "\n",
    "# Constant to control how frequently we print train loss\n",
    "print_every = 100\n",
    "\n",
    "# This is a little utility that we'll use to reset the model\n",
    "# if we want to re-initialize all our parameters\n",
    "def reset(m):\n",
    "    if hasattr(m, 'reset_parameters'):\n",
    "        m.reset_parameters()"
   ]
  },
  {
   "cell_type": "markdown",
   "metadata": {
    "colab_type": "text",
    "id": "g5Qsks8fq793"
   },
   "source": [
    "## Example Model\n",
    "\n",
    "### Some assorted tidbits\n",
    "\n",
    "Let's start by looking at a simple model. First, note that PyTorch operates on Tensors, which are n-dimensional arrays functionally analogous to numpy's ndarrays, with the additional feature that they can be used for computations on GPUs.\n",
    "\n",
    "We'll provide you with a Flatten function, which we explain here. Remember that our image data (and more relevantly, our intermediate feature maps) are initially N x C x H x W, where:\n",
    "* N is the number of datapoints\n",
    "* C is the number of channels\n",
    "* H is the height of the intermediate feature map in pixels\n",
    "* W is the height of the intermediate feature map in pixels\n",
    "\n",
    "This is the right way to represent the data when we are doing something like a 2D convolution, that needs spatial understanding of where the intermediate features are relative to each other. When we input  data into fully connected affine layers, however, we want each datapoint to be represented by a single vector -- it's no longer useful to segregate the different channels, rows, and columns of the data. So, we use a \"Flatten\" operation to collapse the C x H x W values per representation into a single long vector. The Flatten function below first reads in the N, C, H, and W values from a given batch of data, and then returns a \"view\" of that data. \"View\" is analogous to numpy's \"reshape\" method: it reshapes x's dimensions to be N x ??, where ?? is allowed to be anything (in this case, it will be C x H x W, but we don't need to specify that explicitly). "
   ]
  },
  {
   "cell_type": "code",
   "execution_count": 0,
   "metadata": {
    "colab": {},
    "colab_type": "code",
    "collapsed": true,
    "id": "W1jOBR5Fq796"
   },
   "outputs": [],
   "source": [
    "class Flatten(nn.Module):\n",
    "    def forward(self, x):\n",
    "        N, C, H, W = x.size() # read in N, C, H, W\n",
    "        return x.view(N, -1)  # \"flatten\" the C * H * W values into a single vector per image"
   ]
  },
  {
   "cell_type": "markdown",
   "metadata": {
    "colab_type": "text",
    "id": "huI5VJCIq7-F"
   },
   "source": [
    "### The example model itself\n",
    "\n",
    "The first step to training your own model is defining its architecture.\n",
    "\n",
    "Here's an example of a convolutional neural network defined in PyTorch -- try to understand what each line is doing, remembering that each layer is composed upon the previous layer. We haven't trained anything yet - that'll come next - for now, we want you to understand how everything gets set up.  nn.Sequential is a container which applies each layer\n",
    "one after the other.\n",
    "\n",
    "In that example, you see 2D convolutional layers (Conv2d), ReLU activations, and fully-connected layers (Linear). You also see the Cross-Entropy loss function, and the Adam optimizer being used. \n",
    "\n",
    "Make sure you understand why the parameters of the Linear layer are 5408 and 10.\n"
   ]
  },
  {
   "cell_type": "code",
   "execution_count": 0,
   "metadata": {
    "colab": {},
    "colab_type": "code",
    "collapsed": true,
    "id": "n7eD64cgq7-I"
   },
   "outputs": [],
   "source": [
    "# Here's where we define the architecture of the model... \n",
    "simple_model = nn.Sequential(\n",
    "                nn.Conv2d(3, 32, kernel_size=7, stride=2),\n",
    "                nn.ReLU(inplace=True),\n",
    "                Flatten(), # see above for explanation\n",
    "                nn.Linear(5408, 10), # affine layer\n",
    "              )\n",
    "\n",
    "# Set the type of all data in this model to be FloatTensor \n",
    "simple_model.type(dtype)\n",
    "\n",
    "loss_fn = nn.CrossEntropyLoss().type(dtype)\n",
    "optimizer = optim.Adam(simple_model.parameters(), lr=1e-2) # lr sets the learning rate of the optimizer"
   ]
  },
  {
   "cell_type": "markdown",
   "metadata": {
    "colab_type": "text",
    "id": "bx-Cjfahq7-P"
   },
   "source": [
    "## Training a specific model\n",
    "\n",
    "In this section, we're going to specify a model for you to construct. The goal here isn't to get good performance (that'll be next), but instead to get comfortable with understanding the PyTorch documentation and configuring your own model. \n",
    "\n",
    "Using the code provided above as guidance, and using the following PyTorch documentation, specify a model with the following architecture:\n",
    "\n",
    "* 7x7 Convolutional Layer with 32 filters and stride of 1\n",
    "* ReLU Activation Layer\n",
    "* Spatial Batch Normalization Layer\n",
    "* 2x2 Max Pooling layer with a stride of 2\n",
    "* Affine layer with 1024 output units\n",
    "* ReLU Activation Layer\n",
    "* Affine layer from 1024 input units to 10 outputs\n",
    "\n",
    "And finally, set up a **cross-entropy** loss function and the **RMSprop** learning rule."
   ]
  },
  {
   "cell_type": "markdown",
   "metadata": {
    "colab_type": "text",
    "id": "HeCXGTrzq7-S"
   },
   "source": [
    "PyTorch supports many other layer types, loss functions, and optimizers - you will experiment with these next. Here's the official API documentation for these (if any of the parameters used above were unclear, this resource will also be helpful). One note: what we call in the class \"spatial batch norm\" is called \"BatchNorm2D\" in PyTorch.\n",
    "\n",
    "* Layers: http://pytorch.org/docs/nn.html\n",
    "* Activations: http://pytorch.org/docs/nn.html#non-linear-activations\n",
    "* Loss functions: http://pytorch.org/docs/nn.html#loss-functions\n",
    "* Optimizers: http://pytorch.org/docs/optim.html#algorithms"
   ]
  },
  {
   "cell_type": "code",
   "execution_count": 0,
   "metadata": {
    "colab": {},
    "colab_type": "code",
    "collapsed": true,
    "id": "F4AWKICmq7-g"
   },
   "outputs": [],
   "source": [
    "fixed_model_base = nn.Sequential(\n",
    "                    nn.Conv2d(3, 32, kernel_size=7, stride=1),\n",
    "                    nn.ReLU(inplace=True),\n",
    "                    nn.BatchNorm2d(num_features=32),\n",
    "                    nn.MaxPool2d(kernel_size=2, stride=2),\n",
    "                    Flatten(),\n",
    "                    nn.Linear(5408, 1024), #(32-7)/2+1=13 -> 5408=32*13*13\n",
    "                    nn.ReLU(inplace=True),\n",
    "                    nn.Linear(1024, 10)\n",
    "                    )\n",
    "\n",
    "fixed_model = fixed_model_base.type(dtype)\n",
    "\n",
    "loss_fn = nn.CrossEntropyLoss().type(dtype)\n",
    "optimizer = optim.RMSprop(fixed_model.parameters(), lr=1e-2)"
   ]
  },
  {
   "cell_type": "markdown",
   "metadata": {
    "colab_type": "text",
    "id": "zamGdjWFq7_Q"
   },
   "source": [
    "To make sure you're doing the right thing, use the following tool to check the dimensionality of your output (it should be 64 x 10, since our batches have size 64 and the output of the final affine layer should be 10, corresponding to our 10 classes):"
   ]
  },
  {
   "cell_type": "code",
   "execution_count": 9,
   "metadata": {
    "colab": {
     "base_uri": "https://localhost:8080/",
     "height": 35
    },
    "colab_type": "code",
    "collapsed": false,
    "executionInfo": {
     "elapsed": 1218,
     "status": "ok",
     "timestamp": 1539699735585,
     "user": {
      "displayName": "Lisa Chae",
      "photoUrl": "",
      "userId": "14437547710160931975"
     },
     "user_tz": -540
    },
    "id": "rK0JjtUCq7_U",
    "outputId": "db47ebaf-47af-4b9d-98fb-8f58756ec492"
   },
   "outputs": [
    {
     "data": {
      "text/plain": [
       "True"
      ]
     },
     "execution_count": 9,
     "metadata": {
      "tags": []
     },
     "output_type": "execute_result"
    }
   ],
   "source": [
    "## Now we're going to feed a random batch into the model you defined and make sure the output is the right size\n",
    "x = torch.randn(64, 3, 32, 32).type(dtype)\n",
    "x_var = Variable(x.type(dtype)) # Construct a PyTorch Variable out of your input data\n",
    "ans = fixed_model(x_var)        # Feed it through the model! \n",
    "\n",
    "# Check to make sure what comes out of your model\n",
    "# is the right dimensionality... this should be True\n",
    "# if you've done everything correctly\n",
    "np.array_equal(np.array(ans.size()), np.array([64, 10]))       "
   ]
  },
  {
   "cell_type": "markdown",
   "metadata": {
    "colab_type": "text",
    "id": "MWoL8zSkq7_t"
   },
   "source": [
    "### GPU!\n",
    "\n",
    "Now, we're going to switch the dtype of the model and our data to the GPU-friendly tensors, and see what happens... everything is the same, except we are casting our model and input tensors as this new dtype instead of the old one.\n",
    "\n",
    "If this returns false, or otherwise fails in a not-graceful way (i.e., with some error message), you may not have an NVIDIA GPU available on your machine. If you're running locally, we recommend you switch to Google Cloud and follow the instructions to set up a GPU there. If you're already on Google Cloud, something is wrong -- make sure you followed the instructions on how to request and use a GPU on your instance. If you did, post on Piazza or come to Office Hours so we can help you debug."
   ]
  },
  {
   "cell_type": "code",
   "execution_count": 10,
   "metadata": {
    "colab": {
     "base_uri": "https://localhost:8080/",
     "height": 35
    },
    "colab_type": "code",
    "collapsed": false,
    "executionInfo": {
     "elapsed": 1264,
     "status": "ok",
     "timestamp": 1539699742603,
     "user": {
      "displayName": "Lisa Chae",
      "photoUrl": "",
      "userId": "14437547710160931975"
     },
     "user_tz": -540
    },
    "id": "wp0p1IMGq7_v",
    "outputId": "645cf12f-f5dd-46a6-be61-60ed0a6a7ae7"
   },
   "outputs": [
    {
     "data": {
      "text/plain": [
       "True"
      ]
     },
     "execution_count": 10,
     "metadata": {
      "tags": []
     },
     "output_type": "execute_result"
    }
   ],
   "source": [
    "# Verify that CUDA is properly configured and you have a GPU available\n",
    "\n",
    "torch.cuda.is_available()"
   ]
  },
  {
   "cell_type": "code",
   "execution_count": 11,
   "metadata": {
    "colab": {
     "base_uri": "https://localhost:8080/",
     "height": 35
    },
    "colab_type": "code",
    "collapsed": false,
    "executionInfo": {
     "elapsed": 3761,
     "status": "ok",
     "timestamp": 1539699751512,
     "user": {
      "displayName": "Lisa Chae",
      "photoUrl": "",
      "userId": "14437547710160931975"
     },
     "user_tz": -540
    },
    "id": "WfHJGrxtq8A8",
    "outputId": "fe5d3e1f-abd4-4877-89b7-30eeba152813"
   },
   "outputs": [
    {
     "data": {
      "text/plain": [
       "True"
      ]
     },
     "execution_count": 11,
     "metadata": {
      "tags": []
     },
     "output_type": "execute_result"
    }
   ],
   "source": [
    "import copy\n",
    "gpu_dtype = torch.cuda.FloatTensor\n",
    "#torch.cuda.FloatTensor -> torch.FloatTensor (no GPU)\n",
    "\n",
    "fixed_model_gpu = copy.deepcopy(fixed_model_base).type(gpu_dtype)\n",
    "\n",
    "x_gpu = torch.randn(64, 3, 32, 32).type(gpu_dtype)\n",
    "x_var_gpu = Variable(x.type(gpu_dtype)) # Construct a PyTorch Variable out of your input data\n",
    "ans = fixed_model_gpu(x_var_gpu)        # Feed it through the model! \n",
    "\n",
    "# Check to make sure what comes out of your model\n",
    "# is the right dimensionality... this should be True\n",
    "# if you've done everything correctly\n",
    "np.array_equal(np.array(ans.size()), np.array([64, 10]))"
   ]
  },
  {
   "cell_type": "markdown",
   "metadata": {
    "colab_type": "text",
    "id": "sucZKPQwq8BM"
   },
   "source": [
    "Run the following cell to evaluate the performance of the forward pass running on the CPU:"
   ]
  },
  {
   "cell_type": "code",
   "execution_count": 12,
   "metadata": {
    "colab": {
     "base_uri": "https://localhost:8080/",
     "height": 35
    },
    "colab_type": "code",
    "collapsed": false,
    "executionInfo": {
     "elapsed": 5562,
     "status": "ok",
     "timestamp": 1539699759862,
     "user": {
      "displayName": "Lisa Chae",
      "photoUrl": "",
      "userId": "14437547710160931975"
     },
     "user_tz": -540
    },
    "id": "2LbDEzPrq8B5",
    "outputId": "f157ffee-4cb0-45ce-c985-6e2b46548a80"
   },
   "outputs": [
    {
     "name": "stdout",
     "output_type": "stream",
     "text": [
      "10 loops, best of 3: 60.7 ms per loop\n"
     ]
    }
   ],
   "source": [
    "%%timeit \n",
    "ans = fixed_model(x_var)"
   ]
  },
  {
   "cell_type": "markdown",
   "metadata": {
    "colab_type": "text",
    "id": "1r5GhQN4q8CK"
   },
   "source": [
    "... and now the GPU:"
   ]
  },
  {
   "cell_type": "code",
   "execution_count": 13,
   "metadata": {
    "colab": {
     "base_uri": "https://localhost:8080/",
     "height": 53
    },
    "colab_type": "code",
    "collapsed": false,
    "executionInfo": {
     "elapsed": 2841,
     "status": "ok",
     "timestamp": 1539699764665,
     "user": {
      "displayName": "Lisa Chae",
      "photoUrl": "",
      "userId": "14437547710160931975"
     },
     "user_tz": -540
    },
    "id": "du52pO1Mq8CN",
    "outputId": "ff3f5cd7-11db-46fb-d285-8a5c3ef94f27"
   },
   "outputs": [
    {
     "name": "stdout",
     "output_type": "stream",
     "text": [
      "The slowest run took 23.25 times longer than the fastest. This could mean that an intermediate result is being cached.\n",
      "100 loops, best of 3: 1.89 ms per loop\n"
     ]
    }
   ],
   "source": [
    "%%timeit \n",
    "torch.cuda.synchronize() # Make sure there are no pending GPU computations\n",
    "ans = fixed_model_gpu(x_var_gpu)        # Feed it through the model! \n",
    "torch.cuda.synchronize() # Make sure there are no pending GPU computations"
   ]
  },
  {
   "cell_type": "markdown",
   "metadata": {
    "colab_type": "text",
    "id": "cPFlh0EZq8CZ"
   },
   "source": [
    "You should observe that even a simple forward pass like this is significantly faster on the GPU. So for the rest of the assignment (and when you go train your models in assignment 3 and your project!), you should use the GPU datatype for your model and your tensors: as a reminder that is *torch.cuda.FloatTensor* (in our notebook here as *gpu_dtype*)"
   ]
  },
  {
   "cell_type": "markdown",
   "metadata": {
    "colab_type": "text",
    "id": "XE2ZKnYWq8Cc"
   },
   "source": [
    "### Train the model.\n",
    "\n",
    "Now that you've seen how to define a model and do a single forward pass of some data through it, let's  walk through how you'd actually train one whole epoch over your training data (using the simple_model we provided above).\n",
    "\n",
    "Make sure you understand how each PyTorch function used below corresponds to what you implemented in your custom neural network implementation.\n",
    "\n",
    "Note that because we are not resetting the weights anywhere below, if you run the cell multiple times, you are effectively training multiple epochs (so your performance should improve).\n",
    "\n",
    "First, set up an RMSprop optimizer (using a 1e-3 learning rate) and a cross-entropy loss function:"
   ]
  },
  {
   "cell_type": "code",
   "execution_count": 0,
   "metadata": {
    "colab": {},
    "colab_type": "code",
    "collapsed": true,
    "id": "jo-CMsOgq8Cf"
   },
   "outputs": [],
   "source": [
    "loss_fn = nn.CrossEntropyLoss()\n",
    "optimizer = optim.RMSprop(fixed_model_gpu.parameters(), lr=1e-3)\n"
   ]
  },
  {
   "cell_type": "code",
   "execution_count": 15,
   "metadata": {
    "colab": {
     "base_uri": "https://localhost:8080/",
     "height": 199
    },
    "colab_type": "code",
    "collapsed": false,
    "executionInfo": {
     "elapsed": 11130,
     "status": "ok",
     "timestamp": 1539699803650,
     "user": {
      "displayName": "Lisa Chae",
      "photoUrl": "",
      "userId": "14437547710160931975"
     },
     "user_tz": -540
    },
    "id": "LBxGTGa9q8D2",
    "outputId": "6d70b588-a411-4d75-e5fe-480d64db2eee"
   },
   "outputs": [
    {
     "name": "stderr",
     "output_type": "stream",
     "text": [
      "/usr/local/lib/python3.6/dist-packages/ipykernel_launcher.py:15: UserWarning: invalid index of a 0-dim tensor. This will be an error in PyTorch 0.5. Use tensor.item() to convert a 0-dim tensor to a Python number\n",
      "  from ipykernel import kernelapp as app\n"
     ]
    },
    {
     "name": "stdout",
     "output_type": "stream",
     "text": [
      "t = 100, loss = 1.4536\n",
      "t = 200, loss = 1.5086\n",
      "t = 300, loss = 1.4670\n",
      "t = 400, loss = 1.2225\n",
      "t = 500, loss = 1.2266\n",
      "t = 600, loss = 1.4275\n",
      "t = 700, loss = 1.2886\n"
     ]
    }
   ],
   "source": [
    "# This sets the model in \"training\" mode. This is relevant for some layers that may have different behavior\n",
    "# in training mode vs testing mode, such as Dropout and BatchNorm. \n",
    "fixed_model_gpu.train()\n",
    "\n",
    "# Load one batch at a time.\n",
    "for t, (x, y) in enumerate(loader_train):\n",
    "    x_var = Variable(x.type(gpu_dtype))\n",
    "    y_var = Variable(y.type(gpu_dtype).long())\n",
    "\n",
    "    # This is the forward pass: predict the scores for each class, for each x in the batch.\n",
    "    scores = fixed_model_gpu(x_var)\n",
    "    \n",
    "    # Use the correct y values and the predicted y values to compute the loss.\n",
    "    loss = loss_fn(scores, y_var)\n",
    "    \n",
    "    if (t + 1) % print_every == 0:\n",
    "        print('t = %d, loss = %.4f' % (t + 1, loss.data[0]))\n",
    "\n",
    "    # Zero out all of the gradients for the variables which the optimizer will update.\n",
    "    optimizer.zero_grad()\n",
    "    \n",
    "    # This is the backwards pass: compute the gradient of the loss with respect to each \n",
    "    # parameter of the model.\n",
    "    loss.backward()\n",
    "    \n",
    "    # Actually update the parameters of the model using the gradients computed by the backwards pass.\n",
    "    optimizer.step()"
   ]
  },
  {
   "cell_type": "markdown",
   "metadata": {
    "colab_type": "text",
    "id": "_Rbz8VUgq8EB"
   },
   "source": [
    "Now you've seen how the training process works in PyTorch. To save you writing boilerplate code, we're providing the following helper functions to help you train for multiple epochs and check the accuracy of your model:"
   ]
  },
  {
   "cell_type": "code",
   "execution_count": 0,
   "metadata": {
    "colab": {},
    "colab_type": "code",
    "collapsed": true,
    "id": "AeSWObhKq8EI"
   },
   "outputs": [],
   "source": [
    "def train(model, loss_fn, optimizer, num_epochs = 1):\n",
    "    for epoch in range(num_epochs):\n",
    "        print('Starting epoch %d / %d' % (epoch + 1, num_epochs))\n",
    "        model.train()\n",
    "        for t, (x, y) in enumerate(loader_train):\n",
    "            x_var = Variable(x.type(gpu_dtype))\n",
    "            y_var = Variable(y.type(gpu_dtype).long())\n",
    "\n",
    "            scores = model(x_var)\n",
    "            \n",
    "            loss = loss_fn(scores, y_var)\n",
    "            if (t + 1) % print_every == 0:\n",
    "                print('t = %d, loss = %.4f' % (t + 1, loss.data[0]))\n",
    "\n",
    "            optimizer.zero_grad()\n",
    "            loss.backward()\n",
    "            optimizer.step()\n",
    "\n",
    "def check_accuracy(model, loader):\n",
    "    if loader.dataset.train:\n",
    "        print('Checking accuracy on validation set')\n",
    "    else:\n",
    "        print('Checking accuracy on test set')   \n",
    "    num_correct = 0\n",
    "    num_samples = 0\n",
    "    model.eval() # Put the model in test mode (the opposite of model.train(), essentially)\n",
    "    for x, y in loader:\n",
    "        x_var = Variable(x.type(gpu_dtype), volatile=True)\n",
    "\n",
    "        scores = model(x_var)\n",
    "        _, preds = scores.data.cpu().max(1)\n",
    "        num_correct += (preds == y).sum()\n",
    "        num_samples += preds.size(0)\n",
    "    acc = float(num_correct) / num_samples\n",
    "    print('Got %d / %d correct (%.2f)' % (num_correct, num_samples, 100 * acc))\n",
    "    return 100*acc #added for evaluation process"
   ]
  },
  {
   "cell_type": "markdown",
   "metadata": {
    "colab_type": "text",
    "id": "sM3trWRLq8ER"
   },
   "source": [
    "### Check the accuracy of the model.\n",
    "\n",
    "Let's see the train and check_accuracy code in action -- feel free to use these methods when evaluating the models you develop below.\n",
    "\n",
    "You should get a training loss of around 1.2-1.4, and a validation accuracy of around 50-60%. As mentioned above, if you re-run the cells, you'll be training more epochs, so your performance will improve past these numbers.\n",
    "\n",
    "But don't worry about getting these numbers better -- this was just practice before you tackle designing your own model."
   ]
  },
  {
   "cell_type": "code",
   "execution_count": 17,
   "metadata": {
    "colab": {
     "base_uri": "https://localhost:8080/",
     "height": 289
    },
    "colab_type": "code",
    "collapsed": false,
    "executionInfo": {
     "elapsed": 10753,
     "status": "ok",
     "timestamp": 1539699837990,
     "user": {
      "displayName": "Lisa Chae",
      "photoUrl": "",
      "userId": "14437547710160931975"
     },
     "user_tz": -540
    },
    "id": "WRxjpGBfq8Ez",
    "outputId": "4a7c57ac-fe95-4954-cb25-a0514c952289"
   },
   "outputs": [
    {
     "name": "stdout",
     "output_type": "stream",
     "text": [
      "Starting epoch 1 / 1\n"
     ]
    },
    {
     "name": "stderr",
     "output_type": "stream",
     "text": [
      "/usr/local/lib/python3.6/dist-packages/ipykernel_launcher.py:13: UserWarning: invalid index of a 0-dim tensor. This will be an error in PyTorch 0.5. Use tensor.item() to convert a 0-dim tensor to a Python number\n",
      "  del sys.path[0]\n"
     ]
    },
    {
     "name": "stdout",
     "output_type": "stream",
     "text": [
      "t = 100, loss = 1.4141\n",
      "t = 200, loss = 1.5919\n",
      "t = 300, loss = 1.4145\n",
      "t = 400, loss = 1.3159\n",
      "t = 500, loss = 1.2928\n",
      "t = 600, loss = 1.3996\n",
      "t = 700, loss = 1.1919\n",
      "Checking accuracy on validation set\n",
      "Got 489 / 1000 correct (48.90)\n"
     ]
    },
    {
     "name": "stderr",
     "output_type": "stream",
     "text": [
      "/usr/local/lib/python3.6/dist-packages/ipykernel_launcher.py:28: UserWarning: volatile was removed and now has no effect. Use `with torch.no_grad():` instead.\n"
     ]
    },
    {
     "data": {
      "text/plain": [
       "48.9"
      ]
     },
     "execution_count": 17,
     "metadata": {
      "tags": []
     },
     "output_type": "execute_result"
    }
   ],
   "source": [
    "torch.cuda.random.manual_seed(12345)\n",
    "fixed_model_gpu.apply(reset)\n",
    "train(fixed_model_gpu, loss_fn, optimizer, num_epochs=1)\n",
    "check_accuracy(fixed_model_gpu, loader_val)"
   ]
  },
  {
   "cell_type": "markdown",
   "metadata": {
    "colab_type": "text",
    "id": "H92jByfGq8FF"
   },
   "source": [
    "### Don't forget the validation set!\n",
    "\n",
    "And note that you can use the check_accuracy function to evaluate on either the test set or the validation set, by passing either **loader_test** or **loader_val** as the second argument to check_accuracy. You should not touch the test set until you have finished your architecture and hyperparameter tuning, and only run the test set once at the end to report a final value. "
   ]
  },
  {
   "cell_type": "markdown",
   "metadata": {
    "colab_type": "text",
    "id": "_JY0kP-Hq8FL"
   },
   "source": [
    "## Train a _great_ model on CIFAR-10!\n",
    "\n",
    "Now it's your job to experiment with architectures, hyperparameters, loss functions, and optimizers to train a model that achieves **>=70%** accuracy on the CIFAR-10 **validation** set. You can use the check_accuracy and train functions from above."
   ]
  },
  {
   "cell_type": "markdown",
   "metadata": {
    "colab_type": "text",
    "id": "Eeu1PVo1q8FP"
   },
   "source": [
    "### Things you should try:\n",
    "- **Filter size**: Above we used 7x7; this makes pretty pictures but smaller filters may be more efficient\n",
    "- **Number of filters**: Above we used 32 filters. Do more or fewer do better?\n",
    "- **Pooling vs Strided Convolution**: Do you use max pooling or just stride convolutions?\n",
    "- **Batch normalization**: Try adding spatial batch normalization after convolution layers and vanilla batch normalization after affine layers. Do your networks train faster?\n",
    "- **Network architecture**: The network above has two layers of trainable parameters. Can you do better with a deep network? Good architectures to try include:\n",
    "    - [conv-relu-pool]xN -> [affine]xM -> [softmax or SVM]\n",
    "    - [conv-relu-conv-relu-pool]xN -> [affine]xM -> [softmax or SVM]\n",
    "    - [batchnorm-relu-conv]xN -> [affine]xM -> [softmax or SVM]\n",
    "- **Global Average Pooling**: Instead of flattening and then having multiple affine layers, perform convolutions until your image gets small (7x7 or so) and then perform an average pooling operation to get to a 1x1 image picture (1, 1 , Filter#), which is then reshaped into a (Filter#) vector. This is used in [Google's Inception Network](https://arxiv.org/abs/1512.00567) (See Table 1 for their architecture).\n",
    "- **Regularization**: Add l2 weight regularization, or perhaps use Dropout.\n",
    "\n",
    "### Tips for training\n",
    "For each network architecture that you try, you should tune the learning rate and regularization strength. When doing this there are a couple important things to keep in mind:\n",
    "\n",
    "- If the parameters are working well, you should see improvement within a few hundred iterations\n",
    "- Remember the coarse-to-fine approach for hyperparameter tuning: start by testing a large range of hyperparameters for just a few training iterations to find the combinations of parameters that are working at all.\n",
    "- Once you have found some sets of parameters that seem to work, search more finely around these parameters. You may need to train for more epochs.\n",
    "- You should use the validation set for hyperparameter search, and save your test set for evaluating your architecture on the best parameters as selected by the validation set.\n",
    "\n",
    "### Going above and beyond\n",
    "If you are feeling adventurous there are many other features you can implement to try and improve your performance. You are **not required** to implement any of these; however they would be good things to try for extra credit.\n",
    "\n",
    "- Alternative update steps: For the assignment we implemented SGD+momentum, RMSprop, and Adam; you could try alternatives like AdaGrad or AdaDelta.\n",
    "- Alternative activation functions such as leaky ReLU, parametric ReLU, ELU, or MaxOut.\n",
    "- Model ensembles\n",
    "- Data augmentation\n",
    "- New Architectures\n",
    "  - [ResNets](https://arxiv.org/abs/1512.03385) where the input from the previous layer is added to the output.\n",
    "  - [DenseNets](https://arxiv.org/abs/1608.06993) where inputs into previous layers are concatenated together.\n",
    "  - [This blog has an in-depth overview](https://chatbotslife.com/resnets-highwaynets-and-densenets-oh-my-9bb15918ee32)\n",
    "\n",
    "If you do decide to implement something extra, clearly describe it in the \"Extra Credit Description\" cell below.\n",
    "\n",
    "### What we expect\n",
    "At the very least, you should be able to train a ConvNet that gets at least 70% accuracy on the validation set. This is just a lower bound - if you are careful it should be possible to get accuracies much higher than that! Extra credit points will be awarded for particularly high-scoring models or unique approaches.\n",
    "\n",
    "You should use the space below to experiment and train your network. \n",
    "\n",
    "Have fun and happy training!"
   ]
  },
  {
   "cell_type": "code",
   "execution_count": 18,
   "metadata": {
    "colab": {
     "base_uri": "https://localhost:8080/",
     "height": 10063
    },
    "colab_type": "code",
    "collapsed": false,
    "executionInfo": {
     "elapsed": 8309394,
     "status": "ok",
     "timestamp": 1539708155357,
     "user": {
      "displayName": "Lisa Chae",
      "photoUrl": "",
      "userId": "14437547710160931975"
     },
     "user_tz": -540
    },
    "id": "m18hilgNq8FT",
    "outputId": "adab012d-68ce-4525-b2ee-28b8562ec527"
   },
   "outputs": [
    {
     "name": "stderr",
     "output_type": "stream",
     "text": [
      "/usr/local/lib/python3.6/dist-packages/ipykernel_launcher.py:4: UserWarning: nn.init.xavier_uniform is now deprecated in favor of nn.init.xavier_uniform_.\n",
      "  after removing the cwd from sys.path.\n"
     ]
    },
    {
     "name": "stdout",
     "output_type": "stream",
     "text": [
      "1\n",
      "Starting epoch 1 / 1\n"
     ]
    },
    {
     "name": "stderr",
     "output_type": "stream",
     "text": [
      "/usr/local/lib/python3.6/dist-packages/ipykernel_launcher.py:13: UserWarning: invalid index of a 0-dim tensor. This will be an error in PyTorch 0.5. Use tensor.item() to convert a 0-dim tensor to a Python number\n",
      "  del sys.path[0]\n"
     ]
    },
    {
     "name": "stdout",
     "output_type": "stream",
     "text": [
      "t = 100, loss = 1.4883\n",
      "t = 200, loss = 1.5078\n",
      "t = 300, loss = 1.3531\n",
      "t = 400, loss = 1.0201\n",
      "t = 500, loss = 1.0384\n",
      "t = 600, loss = 1.0798\n",
      "t = 700, loss = 1.1057\n",
      "Checking accuracy on validation set\n"
     ]
    },
    {
     "name": "stderr",
     "output_type": "stream",
     "text": [
      "/usr/local/lib/python3.6/dist-packages/ipykernel_launcher.py:28: UserWarning: volatile was removed and now has no effect. Use `with torch.no_grad():` instead.\n"
     ]
    },
    {
     "name": "stdout",
     "output_type": "stream",
     "text": [
      "Got 622 / 1000 correct (62.20)\n",
      "2\n",
      "Starting epoch 1 / 1\n",
      "t = 100, loss = 0.8210\n",
      "t = 200, loss = 0.8743\n",
      "t = 300, loss = 0.9370\n",
      "t = 400, loss = 0.6653\n",
      "t = 500, loss = 0.6844\n",
      "t = 600, loss = 0.8496\n",
      "t = 700, loss = 0.8540\n",
      "Checking accuracy on validation set\n",
      "Got 666 / 1000 correct (66.60)\n",
      "3\n",
      "Starting epoch 1 / 1\n",
      "t = 100, loss = 0.5559\n",
      "t = 200, loss = 0.6963\n",
      "t = 300, loss = 0.6538\n",
      "t = 400, loss = 0.6516\n",
      "t = 500, loss = 0.5892\n",
      "t = 600, loss = 0.5097\n",
      "t = 700, loss = 0.6696\n",
      "Checking accuracy on validation set\n",
      "Got 701 / 1000 correct (70.10)\n",
      "4\n",
      "Starting epoch 1 / 1\n",
      "t = 100, loss = 0.4911\n",
      "t = 200, loss = 0.6291\n",
      "t = 300, loss = 0.6340\n",
      "t = 400, loss = 0.4789\n",
      "t = 500, loss = 0.5959\n",
      "t = 600, loss = 0.4618\n",
      "t = 700, loss = 0.6924\n",
      "Checking accuracy on validation set\n",
      "Got 730 / 1000 correct (73.00)\n",
      "5\n",
      "Starting epoch 1 / 1\n",
      "t = 100, loss = 0.3553\n",
      "t = 200, loss = 0.9189\n",
      "t = 300, loss = 0.7412\n",
      "t = 400, loss = 0.4720\n",
      "t = 500, loss = 0.6120\n",
      "t = 600, loss = 0.4510\n",
      "t = 700, loss = 0.6185\n",
      "Checking accuracy on validation set\n",
      "Got 660 / 1000 correct (66.00)\n",
      "6\n",
      "Starting epoch 1 / 1\n",
      "t = 100, loss = 0.3636\n",
      "t = 200, loss = 0.6374\n",
      "t = 300, loss = 0.4781\n",
      "t = 400, loss = 0.3658\n",
      "t = 500, loss = 0.4518\n",
      "t = 600, loss = 0.3522\n",
      "t = 700, loss = 0.3633\n",
      "Checking accuracy on validation set\n",
      "Got 731 / 1000 correct (73.10)\n",
      "7\n",
      "Starting epoch 1 / 1\n",
      "t = 100, loss = 0.2789\n",
      "t = 200, loss = 0.3985\n",
      "t = 300, loss = 0.3876\n",
      "t = 400, loss = 0.3474\n",
      "t = 500, loss = 0.5093\n",
      "t = 600, loss = 0.2300\n",
      "t = 700, loss = 0.4478\n",
      "Checking accuracy on validation set\n",
      "Got 769 / 1000 correct (76.90)\n",
      "8\n",
      "Starting epoch 1 / 1\n",
      "t = 100, loss = 0.2536\n",
      "t = 200, loss = 0.3455\n",
      "t = 300, loss = 0.3875\n",
      "t = 400, loss = 0.5236\n",
      "t = 500, loss = 0.4451\n",
      "t = 600, loss = 0.2424\n",
      "t = 700, loss = 0.3298\n",
      "Checking accuracy on validation set\n",
      "Got 689 / 1000 correct (68.90)\n",
      "9\n",
      "Starting epoch 1 / 1\n",
      "t = 100, loss = 0.3287\n",
      "t = 200, loss = 0.4072\n",
      "t = 300, loss = 0.4732\n",
      "t = 400, loss = 0.2899\n",
      "t = 500, loss = 0.4333\n",
      "t = 600, loss = 0.5393\n",
      "t = 700, loss = 0.5048\n",
      "Checking accuracy on validation set\n",
      "Got 775 / 1000 correct (77.50)\n",
      "10\n",
      "Starting epoch 1 / 1\n",
      "t = 100, loss = 0.1776\n",
      "t = 200, loss = 0.2762\n",
      "t = 300, loss = 0.2656\n",
      "t = 400, loss = 0.3136\n",
      "t = 500, loss = 0.2867\n",
      "t = 600, loss = 0.1650\n",
      "t = 700, loss = 0.3682\n",
      "Checking accuracy on validation set\n",
      "Got 784 / 1000 correct (78.40)\n",
      "11\n",
      "Starting epoch 1 / 1\n",
      "t = 100, loss = 0.0848\n",
      "t = 200, loss = 0.1931\n",
      "t = 300, loss = 0.2646\n",
      "t = 400, loss = 0.1811\n",
      "t = 500, loss = 0.3836\n",
      "t = 600, loss = 0.1196\n",
      "t = 700, loss = 0.4076\n",
      "Checking accuracy on validation set\n",
      "Got 788 / 1000 correct (78.80)\n",
      "12\n",
      "Starting epoch 1 / 1\n",
      "t = 100, loss = 0.0937\n",
      "t = 200, loss = 0.2009\n",
      "t = 300, loss = 0.2583\n",
      "t = 400, loss = 0.2114\n",
      "t = 500, loss = 0.2379\n",
      "t = 600, loss = 0.2708\n",
      "t = 700, loss = 0.2491\n",
      "Checking accuracy on validation set\n",
      "Got 805 / 1000 correct (80.50)\n",
      "13\n",
      "Starting epoch 1 / 1\n",
      "t = 100, loss = 0.1582\n",
      "t = 200, loss = 0.0997\n",
      "t = 300, loss = 0.2248\n",
      "t = 400, loss = 0.1249\n",
      "t = 500, loss = 0.1444\n",
      "t = 600, loss = 0.1209\n",
      "t = 700, loss = 0.2406\n",
      "Checking accuracy on validation set\n",
      "Got 804 / 1000 correct (80.40)\n",
      "14\n",
      "Starting epoch 1 / 1\n",
      "t = 100, loss = 0.0890\n",
      "t = 200, loss = 0.0865\n",
      "t = 300, loss = 0.0845\n",
      "t = 400, loss = 0.1857\n",
      "t = 500, loss = 0.1056\n",
      "t = 600, loss = 0.0954\n",
      "t = 700, loss = 0.0945\n",
      "Checking accuracy on validation set\n",
      "Got 804 / 1000 correct (80.40)\n",
      "15\n",
      "Starting epoch 1 / 1\n",
      "t = 100, loss = 0.1304\n",
      "t = 200, loss = 0.1273\n",
      "t = 300, loss = 0.1385\n",
      "t = 400, loss = 0.1107\n",
      "t = 500, loss = 0.1184\n",
      "t = 600, loss = 0.0657\n",
      "t = 700, loss = 0.1734\n",
      "Checking accuracy on validation set\n",
      "Got 767 / 1000 correct (76.70)\n",
      "16\n",
      "Starting epoch 1 / 1\n",
      "t = 100, loss = 0.0353\n",
      "t = 200, loss = 0.0418\n",
      "t = 300, loss = 0.2881\n",
      "t = 400, loss = 0.5758\n",
      "t = 500, loss = 0.2854\n",
      "t = 600, loss = 0.1559\n",
      "t = 700, loss = 0.1560\n",
      "Checking accuracy on validation set\n",
      "Got 766 / 1000 correct (76.60)\n",
      "17\n",
      "Starting epoch 1 / 1\n",
      "t = 100, loss = 0.0933\n",
      "t = 200, loss = 0.1117\n",
      "t = 300, loss = 0.1842\n",
      "t = 400, loss = 0.1282\n",
      "t = 500, loss = 0.1693\n",
      "t = 600, loss = 0.1984\n",
      "t = 700, loss = 0.5104\n",
      "Checking accuracy on validation set\n",
      "Got 757 / 1000 correct (75.70)\n",
      "18\n",
      "Starting epoch 1 / 1\n",
      "t = 100, loss = 0.1541\n",
      "t = 200, loss = 0.1453\n",
      "t = 300, loss = 0.1827\n",
      "t = 400, loss = 0.1446\n",
      "t = 500, loss = 0.1203\n",
      "t = 600, loss = 0.0476\n",
      "t = 700, loss = 0.1955\n",
      "Checking accuracy on validation set\n",
      "Got 780 / 1000 correct (78.00)\n",
      "19\n",
      "Starting epoch 1 / 1\n",
      "t = 100, loss = 0.0412\n",
      "t = 200, loss = 0.0233\n",
      "t = 300, loss = 0.1720\n",
      "t = 400, loss = 0.0232\n",
      "t = 500, loss = 0.2338\n",
      "t = 600, loss = 0.0176\n",
      "t = 700, loss = 0.1484\n",
      "Checking accuracy on validation set\n",
      "Got 810 / 1000 correct (81.00)\n",
      "20\n",
      "Starting epoch 1 / 1\n",
      "t = 100, loss = 0.0631\n",
      "t = 200, loss = 0.0215\n",
      "t = 300, loss = 0.0190\n",
      "t = 400, loss = 0.0653\n",
      "t = 500, loss = 0.0632\n",
      "t = 600, loss = 0.0577\n",
      "t = 700, loss = 0.1101\n",
      "Checking accuracy on validation set\n",
      "Got 800 / 1000 correct (80.00)\n",
      "21\n",
      "Starting epoch 1 / 1\n",
      "t = 100, loss = 0.0430\n",
      "t = 200, loss = 0.0328\n",
      "t = 300, loss = 0.1917\n",
      "t = 400, loss = 0.0499\n",
      "t = 500, loss = 0.0992\n",
      "t = 600, loss = 0.0508\n",
      "t = 700, loss = 0.0498\n",
      "Checking accuracy on validation set\n",
      "Got 795 / 1000 correct (79.50)\n",
      "22\n",
      "Starting epoch 1 / 1\n",
      "t = 100, loss = 0.0237\n",
      "t = 200, loss = 0.0518\n",
      "t = 300, loss = 0.0485\n",
      "t = 400, loss = 0.0399\n",
      "t = 500, loss = 0.0611\n",
      "t = 600, loss = 0.0889\n",
      "t = 700, loss = 0.0589\n",
      "Checking accuracy on validation set\n",
      "Got 810 / 1000 correct (81.00)\n",
      "23\n",
      "Starting epoch 1 / 1\n",
      "t = 100, loss = 0.0520\n",
      "t = 200, loss = 0.0787\n",
      "t = 300, loss = 0.1640\n",
      "t = 400, loss = 0.1089\n",
      "t = 500, loss = 0.0543\n",
      "t = 600, loss = 0.0399\n",
      "t = 700, loss = 0.0820\n",
      "Checking accuracy on validation set\n",
      "Got 814 / 1000 correct (81.40)\n",
      "24\n",
      "Starting epoch 1 / 1\n",
      "t = 100, loss = 0.0849\n",
      "t = 200, loss = 0.2320\n",
      "t = 300, loss = 0.0343\n",
      "t = 400, loss = 0.0321\n",
      "t = 500, loss = 0.0962\n",
      "t = 600, loss = 0.0241\n",
      "t = 700, loss = 0.5420\n",
      "Checking accuracy on validation set\n",
      "Got 795 / 1000 correct (79.50)\n",
      "25\n",
      "Starting epoch 1 / 1\n",
      "t = 100, loss = 0.6491\n",
      "t = 200, loss = 0.1529\n",
      "t = 300, loss = 0.2650\n",
      "t = 400, loss = 0.1290\n",
      "t = 500, loss = 0.0694\n",
      "t = 600, loss = 0.1409\n",
      "t = 700, loss = 0.0463\n",
      "Checking accuracy on validation set\n",
      "Got 802 / 1000 correct (80.20)\n",
      "26\n",
      "Starting epoch 1 / 1\n",
      "t = 100, loss = 0.0381\n",
      "t = 200, loss = 0.0983\n",
      "t = 300, loss = 0.2382\n",
      "t = 400, loss = 0.0756\n",
      "t = 500, loss = 0.1104\n",
      "t = 600, loss = 0.0179\n",
      "t = 700, loss = 0.0226\n",
      "Checking accuracy on validation set\n",
      "Got 806 / 1000 correct (80.60)\n",
      "27\n",
      "Starting epoch 1 / 1\n",
      "t = 100, loss = 0.0193\n",
      "t = 200, loss = 0.1167\n",
      "t = 300, loss = 0.0546\n",
      "t = 400, loss = 0.0508\n",
      "t = 500, loss = 0.1487\n",
      "t = 600, loss = 0.1069\n",
      "t = 700, loss = 0.0365\n",
      "Checking accuracy on validation set\n",
      "Got 819 / 1000 correct (81.90)\n",
      "28\n",
      "Starting epoch 1 / 1\n",
      "t = 100, loss = 0.0102\n",
      "t = 200, loss = 0.0032\n",
      "t = 300, loss = 0.0069\n",
      "t = 400, loss = 0.0373\n",
      "t = 500, loss = 0.0154\n",
      "t = 600, loss = 0.0449\n",
      "t = 700, loss = 0.0176\n",
      "Checking accuracy on validation set\n",
      "Got 820 / 1000 correct (82.00)\n",
      "29\n",
      "Starting epoch 1 / 1\n",
      "t = 100, loss = 0.0517\n",
      "t = 200, loss = 0.1017\n",
      "t = 300, loss = 0.2233\n",
      "t = 400, loss = 0.1155\n",
      "t = 500, loss = 0.1609\n",
      "t = 600, loss = 0.0759\n",
      "t = 700, loss = 0.1313\n",
      "Checking accuracy on validation set\n",
      "Got 827 / 1000 correct (82.70)\n",
      "30\n",
      "Starting epoch 1 / 1\n",
      "t = 100, loss = 0.1125\n",
      "t = 200, loss = 0.0666\n",
      "t = 300, loss = 0.0338\n",
      "t = 400, loss = 0.0341\n",
      "t = 500, loss = 0.1265\n",
      "t = 600, loss = 0.0595\n",
      "t = 700, loss = 0.3959\n",
      "Checking accuracy on validation set\n",
      "Got 810 / 1000 correct (81.00)\n",
      "31\n",
      "Starting epoch 1 / 1\n",
      "t = 100, loss = 0.0604\n",
      "t = 200, loss = 0.0625\n",
      "t = 300, loss = 0.0527\n",
      "t = 400, loss = 0.0266\n",
      "t = 500, loss = 0.0306\n",
      "t = 600, loss = 0.0490\n",
      "t = 700, loss = 0.0582\n",
      "Checking accuracy on validation set\n",
      "Got 847 / 1000 correct (84.70)\n",
      "32\n",
      "Starting epoch 1 / 1\n",
      "t = 100, loss = 0.0359\n",
      "t = 200, loss = 0.0191\n",
      "t = 300, loss = 0.0485\n",
      "t = 400, loss = 0.1377\n",
      "t = 500, loss = 0.0306\n",
      "t = 600, loss = 0.0017\n",
      "t = 700, loss = 0.0361\n",
      "Checking accuracy on validation set\n",
      "Got 826 / 1000 correct (82.60)\n",
      "33\n",
      "Starting epoch 1 / 1\n",
      "t = 100, loss = 0.0391\n",
      "t = 200, loss = 0.0307\n",
      "t = 300, loss = 0.0696\n",
      "t = 400, loss = 0.0546\n",
      "t = 500, loss = 0.0749\n",
      "t = 600, loss = 0.0147\n",
      "t = 700, loss = 0.0674\n",
      "Checking accuracy on validation set\n",
      "Got 828 / 1000 correct (82.80)\n",
      "34\n",
      "Starting epoch 1 / 1\n",
      "t = 100, loss = 0.0114\n",
      "t = 200, loss = 0.0039\n",
      "t = 300, loss = 0.4137\n",
      "t = 400, loss = 0.0736\n",
      "t = 500, loss = 0.0623\n",
      "t = 600, loss = 0.0900\n",
      "t = 700, loss = 0.0969\n",
      "Checking accuracy on validation set\n",
      "Got 799 / 1000 correct (79.90)\n",
      "35\n",
      "Starting epoch 1 / 1\n",
      "t = 100, loss = 0.1421\n",
      "t = 200, loss = 0.3200\n",
      "t = 300, loss = 0.1456\n",
      "t = 400, loss = 0.0233\n",
      "t = 500, loss = 0.0994\n",
      "t = 600, loss = 0.0811\n",
      "t = 700, loss = 0.1689\n",
      "Checking accuracy on validation set\n",
      "Got 846 / 1000 correct (84.60)\n",
      "36\n",
      "Starting epoch 1 / 1\n",
      "t = 100, loss = 0.0140\n",
      "t = 200, loss = 0.0050\n",
      "t = 300, loss = 0.0250\n",
      "t = 400, loss = 0.0071\n",
      "t = 500, loss = 0.0205\n",
      "t = 600, loss = 0.0101\n",
      "t = 700, loss = 0.0146\n",
      "Checking accuracy on validation set\n",
      "Got 834 / 1000 correct (83.40)\n",
      "37\n",
      "Starting epoch 1 / 1\n",
      "t = 100, loss = 0.0294\n",
      "t = 200, loss = 0.0530\n",
      "t = 300, loss = 0.0296\n",
      "t = 400, loss = 0.0050\n",
      "t = 500, loss = 0.0741\n",
      "t = 600, loss = 0.0101\n",
      "t = 700, loss = 0.0503\n",
      "Checking accuracy on validation set\n",
      "Got 849 / 1000 correct (84.90)\n",
      "38\n",
      "Starting epoch 1 / 1\n",
      "t = 100, loss = 0.0191\n",
      "t = 200, loss = 0.0081\n",
      "t = 300, loss = 0.0267\n",
      "t = 400, loss = 0.0091\n",
      "t = 500, loss = 0.0252\n",
      "t = 600, loss = 0.1334\n",
      "t = 700, loss = 0.0265\n",
      "Checking accuracy on validation set\n",
      "Got 824 / 1000 correct (82.40)\n",
      "39\n",
      "Starting epoch 1 / 1\n",
      "t = 100, loss = 0.0756\n",
      "t = 200, loss = 0.1517\n",
      "t = 300, loss = 0.3271\n",
      "t = 400, loss = 0.1051\n",
      "t = 500, loss = 0.3390\n",
      "t = 600, loss = 0.0216\n",
      "t = 700, loss = 0.0838\n",
      "Checking accuracy on validation set\n",
      "Got 825 / 1000 correct (82.50)\n",
      "40\n",
      "Starting epoch 1 / 1\n",
      "t = 100, loss = 0.0117\n",
      "t = 200, loss = 0.0314\n",
      "t = 300, loss = 0.0298\n",
      "t = 400, loss = 0.0110\n",
      "t = 500, loss = 0.0452\n",
      "t = 600, loss = 0.0024\n",
      "t = 700, loss = 0.0213\n",
      "Checking accuracy on validation set\n",
      "Got 845 / 1000 correct (84.50)\n",
      "41\n",
      "Starting epoch 1 / 1\n",
      "t = 100, loss = 0.0341\n",
      "t = 200, loss = 0.0315\n",
      "t = 300, loss = 0.0377\n",
      "t = 400, loss = 0.0149\n",
      "t = 500, loss = 0.0210\n",
      "t = 600, loss = 0.0350\n",
      "t = 700, loss = 0.0313\n",
      "Checking accuracy on validation set\n",
      "Got 829 / 1000 correct (82.90)\n",
      "42\n",
      "Starting epoch 1 / 1\n",
      "t = 100, loss = 0.0895\n",
      "t = 200, loss = 0.0668\n",
      "t = 300, loss = 0.0102\n",
      "t = 400, loss = 0.0568\n",
      "t = 500, loss = 0.0087\n",
      "t = 600, loss = 0.0731\n",
      "t = 700, loss = 0.0083\n",
      "Checking accuracy on validation set\n",
      "Got 837 / 1000 correct (83.70)\n",
      "43\n",
      "Starting epoch 1 / 1\n",
      "t = 100, loss = 0.0007\n",
      "t = 200, loss = 0.0088\n",
      "t = 300, loss = 0.0853\n",
      "t = 400, loss = 0.0436\n",
      "t = 500, loss = 0.0039\n",
      "t = 600, loss = 0.0120\n",
      "t = 700, loss = 0.0080\n",
      "Checking accuracy on validation set\n",
      "Got 849 / 1000 correct (84.90)\n",
      "44\n",
      "Starting epoch 1 / 1\n",
      "t = 100, loss = 0.0039\n",
      "t = 200, loss = 0.0683\n",
      "t = 300, loss = 0.0085\n",
      "t = 400, loss = 0.0806\n",
      "t = 500, loss = 0.0332\n",
      "t = 600, loss = 0.0026\n",
      "t = 700, loss = 0.0604\n",
      "Checking accuracy on validation set\n",
      "Got 820 / 1000 correct (82.00)\n",
      "45\n",
      "Starting epoch 1 / 1\n",
      "t = 100, loss = 0.0006\n",
      "t = 200, loss = 0.0016\n",
      "t = 300, loss = 0.0207\n",
      "t = 400, loss = 0.0897\n",
      "t = 500, loss = 0.0471\n",
      "t = 600, loss = 0.0178\n",
      "t = 700, loss = 0.0728\n",
      "Checking accuracy on validation set\n",
      "Got 832 / 1000 correct (83.20)\n",
      "46\n",
      "Starting epoch 1 / 1\n",
      "t = 100, loss = 0.0477\n",
      "t = 200, loss = 0.0037\n",
      "t = 300, loss = 0.0282\n",
      "t = 400, loss = 0.0352\n",
      "t = 500, loss = 0.0999\n",
      "t = 600, loss = 0.0165\n",
      "t = 700, loss = 0.1261\n",
      "Checking accuracy on validation set\n",
      "Got 831 / 1000 correct (83.10)\n",
      "47\n",
      "Starting epoch 1 / 1\n",
      "t = 100, loss = 0.0074\n",
      "t = 200, loss = 0.0459\n",
      "t = 300, loss = 0.0175\n",
      "t = 400, loss = 0.0593\n",
      "t = 500, loss = 0.0158\n",
      "t = 600, loss = 0.0032\n",
      "t = 700, loss = 0.0582\n",
      "Checking accuracy on validation set\n",
      "Got 836 / 1000 correct (83.60)\n",
      "48\n",
      "Starting epoch 1 / 1\n",
      "t = 100, loss = 0.0157\n",
      "t = 200, loss = 0.0324\n",
      "t = 300, loss = 0.0187\n",
      "t = 400, loss = 0.0189\n",
      "t = 500, loss = 0.0697\n",
      "t = 600, loss = 0.0208\n",
      "t = 700, loss = 0.1300\n",
      "Checking accuracy on validation set\n",
      "Got 833 / 1000 correct (83.30)\n",
      "49\n",
      "Starting epoch 1 / 1\n",
      "t = 100, loss = 0.0132\n",
      "t = 200, loss = 0.1093\n",
      "t = 300, loss = 0.0181\n",
      "t = 400, loss = 0.1308\n",
      "t = 500, loss = 0.0657\n",
      "t = 600, loss = 0.2770\n",
      "t = 700, loss = 0.0174\n",
      "Checking accuracy on validation set\n",
      "Got 824 / 1000 correct (82.40)\n",
      "50\n",
      "Starting epoch 1 / 1\n",
      "t = 100, loss = 0.0087\n",
      "t = 200, loss = 0.1301\n",
      "t = 300, loss = 0.0366\n",
      "t = 400, loss = 0.0390\n",
      "t = 500, loss = 0.0282\n",
      "t = 600, loss = 0.0171\n",
      "t = 700, loss = 0.0125\n",
      "Checking accuracy on validation set\n",
      "Got 837 / 1000 correct (83.70)\n",
      "Best accuracy: 84.900000\n",
      "Kernel size: 3 / Padding: 1 / Stride: 1 / Dropout: 0.200000 / LR: 1.000000e-03\n"
     ]
    }
   ],
   "source": [
    "# Train your model here, and make sure the output of this cell is the accuracy of your best model on the \n",
    "# train, val, and test sets. Here's some code to get you started. The output of this cell should be the training\n",
    "# and validation accuracy on your best model (measured by validation accuracy).\n",
    "\n",
    "#Xavier initialization\n",
    "from torch.nn import init\n",
    "def init_weights(m):\n",
    "    if type(m) == nn.Linear:\n",
    "        nn.init.xavier_uniform(m.weight)\n",
    "        m.bias.data.fill_(0.01)\n",
    "\n",
    "best_val = 0\n",
    "best_model = None\n",
    "k = 3\n",
    "p = 1\n",
    "s = 1\n",
    "d = 0.2\n",
    "l = 1e-3\n",
    "\n",
    "model = nn.Sequential(\n",
    "            nn.Conv2d(in_channels=3, out_channels=64, kernel_size=k, stride=s, padding=p),\n",
    "            nn.ReLU(inplace=True),\n",
    "            nn.BatchNorm2d(num_features=64),\n",
    "            nn.Dropout(p=d),\n",
    "                            \n",
    "            nn.Conv2d(in_channels=64, out_channels=64, kernel_size=k, stride=s, padding=p),\n",
    "            nn.ReLU(inplace=True),\n",
    "            nn.BatchNorm2d(num_features=64),\n",
    "            nn.Dropout(p=d),\n",
    "                            \n",
    "            nn.MaxPool2d(kernel_size=2, stride=2),\n",
    "                            \n",
    "            nn.Conv2d(in_channels=64, out_channels=128, kernel_size=k, stride=s, padding=p),\n",
    "            nn.ReLU(inplace=True),\n",
    "            nn.BatchNorm2d(num_features=128),\n",
    "            nn.Dropout(p=d),\n",
    "                            \n",
    "            nn.Conv2d(in_channels=128, out_channels=128, kernel_size=k, stride=s, padding=p),\n",
    "            nn.ReLU(inplace=True),\n",
    "            nn.BatchNorm2d(num_features=128),\n",
    "            nn.Dropout(p=d),\n",
    "                            \n",
    "            nn.MaxPool2d(kernel_size=2, stride=2),\n",
    "                            \n",
    "            nn.Conv2d(in_channels=128, out_channels=256, kernel_size=k, stride=s, padding=p),\n",
    "            nn.ReLU(inplace=True),\n",
    "            nn.BatchNorm2d(num_features=256),\n",
    "            nn.Dropout(p=d),\n",
    "                            \n",
    "            nn.Conv2d(in_channels=256, out_channels=256, kernel_size=k, stride=s, padding=p),\n",
    "            nn.ReLU(inplace=True),\n",
    "            nn.BatchNorm2d(num_features=256),\n",
    "            nn.Dropout(p=d),\n",
    "\n",
    "            nn.Conv2d(in_channels=256, out_channels=256, kernel_size=k, stride=s, padding=p),\n",
    "            nn.ReLU(inplace=True),\n",
    "            nn.BatchNorm2d(num_features=256),\n",
    "            nn.Dropout(p=d),\n",
    "                            \n",
    "            nn.Conv2d(in_channels=256, out_channels=512, kernel_size=k, stride=s, padding=p),\n",
    "            nn.ReLU(inplace=True),\n",
    "            nn.BatchNorm2d(num_features=512),\n",
    "            nn.Dropout(p=d),     \n",
    "\n",
    "            nn.Conv2d(in_channels=512, out_channels=512, kernel_size=k, stride=s, padding=p),\n",
    "            nn.ReLU(inplace=True),\n",
    "            nn.BatchNorm2d(num_features=512),\n",
    "            nn.Dropout(p=d),\n",
    "\n",
    "            nn.Conv2d(in_channels=512, out_channels=512, kernel_size=k, stride=s, padding=p,),\n",
    "            nn.ReLU(inplace=True),\n",
    "            nn.BatchNorm2d(num_features=512),\n",
    "            nn.Dropout(p=d),\n",
    "                            \n",
    "            nn.MaxPool2d(kernel_size=2, stride=2),\n",
    "                            \n",
    "            Flatten(),\n",
    "            nn.Linear(512*4*4, 1024), \n",
    "            nn.ReLU(inplace=True),\n",
    "            nn.BatchNorm1d(num_features=1024),\n",
    "            nn.Linear(1024, 10)\n",
    "            )\n",
    "\n",
    "model.apply(init_weights)\n",
    "\n",
    "conv_model = model.type(gpu_dtype)\n",
    "                    \n",
    "torch.cuda.random.manual_seed(12345)\n",
    "model.apply(reset)\n",
    "\n",
    "loss_fn = nn.CrossEntropyLoss().type(gpu_dtype)\n",
    "optimizer = optim.Adam(conv_model.parameters(), lr=l)\n",
    "\n",
    "epochs = 50\n",
    "for epoch in range(epochs):\n",
    "    print(epoch+1)\n",
    "    train(conv_model, loss_fn, optimizer, num_epochs=1)\n",
    "    acc_val = check_accuracy(conv_model, loader_val)\n",
    "\n",
    "    if best_val < acc_val:\n",
    "        best_val = acc_val\n",
    "        best_params = [k, p, s, d, l]\n",
    "        best_model = conv_model\n",
    "              \n",
    "print('Best accuracy: %f' % best_val)\n",
    "print('Kernel size: %d / Padding: %d / Stride: %d / Dropout: %f / LR: %e' \n",
    "      % (best_params[0], best_params[1], best_params[2], best_params[3], best_params[4]))"
   ]
  },
  {
   "cell_type": "code",
   "execution_count": 19,
   "metadata": {
    "colab": {
     "base_uri": "https://localhost:8080/",
     "height": 53
    },
    "colab_type": "code",
    "collapsed": false,
    "executionInfo": {
     "elapsed": 1198,
     "status": "ok",
     "timestamp": 1539708164244,
     "user": {
      "displayName": "Lisa Chae",
      "photoUrl": "",
      "userId": "14437547710160931975"
     },
     "user_tz": -540
    },
    "id": "Kf1mt0XGpKGd",
    "outputId": "b85fdb63-73fe-4fd9-c82d-259c1e28691b"
   },
   "outputs": [
    {
     "name": "stdout",
     "output_type": "stream",
     "text": [
      "Best accuracy: 84.900000\n",
      "Kernel size: 3 / Padding: 1 / Stride: 1 / Dropout: 0.200000 / LR: 1.000000e-03\n"
     ]
    }
   ],
   "source": [
    "print('Best accuracy: %f' % best_val)\n",
    "print('Kernel size: %d / Padding: %d / Stride: %d / Dropout: %f / LR: %e' \n",
    "      % (best_params[0], best_params[1], best_params[2], best_params[3], best_params[4]))"
   ]
  },
  {
   "cell_type": "markdown",
   "metadata": {
    "colab_type": "text",
    "id": "_PUFdlesq8Fc"
   },
   "source": [
    "### Describe what you did \n",
    "\n",
    "In the cell below you should write an explanation of what you did, any additional features that you implemented, and any visualizations or graphs that you make in the process of training and evaluating your network."
   ]
  },
  {
   "cell_type": "markdown",
   "metadata": {
    "colab_type": "text",
    "id": "Xghx5UUrq8Ff"
   },
   "source": [
    "## **Hyperparameters**\n",
    "First, I experimented with a range of different hyperparameters, using the coarse-to-fine approach.\n",
    "After a few (a lot of) attempts, I found that a 3x3 filter with size 1 zero-padding and stride 1 yielded the best results. Out of dropout rates 0.2, 0.3, and 0.4, 0.2 had the best results. I looked at learning rates of 0.01, 0.001, and 0.0001, out of which I chose 0.001.\n",
    "\n",
    "## **Architecture**\n",
    "I started with a simple model with one convolution, ReLU, batch normalization, and pooling layer.\n",
    "I added more layers one by one, but I found that I quickly ran out of memory, so I attempted a bottleneck approach to fix this problem(although I'm not completely sure that I did this correctly).\n",
    "Each set of convlution layers consists of a convolution layer, ReLU, spatial batch normalization, and dropout. I added vanilla batch normalization after the affine layer as I found this helped increase accuracy. After two convolution layers, I added 2x2 max pooling with stride 2. \n",
    "\n"
   ]
  },
  {
   "cell_type": "markdown",
   "metadata": {
    "colab_type": "text",
    "id": "LyjCkmmwq8GG"
   },
   "source": [
    "## Test set -- run this only once\n",
    "\n",
    "Now that we've gotten a result we're happy with, we test our final model on the test set (which you should store in best_model).  This would be the score we would achieve on a competition. Think about how this compares to your validation set accuracy."
   ]
  },
  {
   "cell_type": "code",
   "execution_count": 22,
   "metadata": {
    "colab": {
     "base_uri": "https://localhost:8080/",
     "height": 89
    },
    "colab_type": "code",
    "collapsed": false,
    "executionInfo": {
     "elapsed": 12162,
     "status": "ok",
     "timestamp": 1539708253970,
     "user": {
      "displayName": "Lisa Chae",
      "photoUrl": "",
      "userId": "14437547710160931975"
     },
     "user_tz": -540
    },
    "id": "caIrmazAq8GR",
    "outputId": "e8dced10-9731-40a4-ba58-50eb6fa04b70"
   },
   "outputs": [
    {
     "name": "stdout",
     "output_type": "stream",
     "text": [
      "Checking accuracy on test set\n"
     ]
    },
    {
     "name": "stderr",
     "output_type": "stream",
     "text": [
      "/usr/local/lib/python3.6/dist-packages/ipykernel_launcher.py:28: UserWarning: volatile was removed and now has no effect. Use `with torch.no_grad():` instead.\n"
     ]
    },
    {
     "name": "stdout",
     "output_type": "stream",
     "text": [
      "Got 8233 / 10000 correct (82.33)\n"
     ]
    },
    {
     "data": {
      "text/plain": [
       "82.33"
      ]
     },
     "execution_count": 22,
     "metadata": {
      "tags": []
     },
     "output_type": "execute_result"
    }
   ],
   "source": [
    "best_model = model\n",
    "check_accuracy(best_model, loader_test)"
   ]
  },
  {
   "cell_type": "markdown",
   "metadata": {
    "colab_type": "text",
    "id": "QKvnxKaBq8GZ"
   },
   "source": [
    "## Going further with PyTorch\n",
    "\n",
    "The next assignment will make heavy use of PyTorch. You might also find it useful for your projects. \n",
    "\n",
    "Here's a nice tutorial by Justin Johnson that shows off some of PyTorch's features, like dynamic graphs and custom NN modules: http://pytorch.org/tutorials/beginner/pytorch_with_examples.html\n",
    "\n",
    "If you're interested in reinforcement learning for your final project, this is a good (more advanced) DQN tutorial in PyTorch: http://pytorch.org/tutorials/intermediate/reinforcement_q_learning.html"
   ]
  }
 ],
 "metadata": {
  "accelerator": "GPU",
  "colab": {
   "collapsed_sections": [],
   "name": "PyTorch.ipynb",
   "provenance": [],
   "version": "0.3.2"
  },
  "kernelspec": {
   "display_name": "Python 3",
   "language": "python",
   "name": "python3"
  },
  "language_info": {
   "codemirror_mode": {
    "name": "ipython",
    "version": 3
   },
   "file_extension": ".py",
   "mimetype": "text/x-python",
   "name": "python",
   "nbconvert_exporter": "python",
   "pygments_lexer": "ipython3",
   "version": "3.6.0"
  }
 },
 "nbformat": 4,
 "nbformat_minor": 0
}
